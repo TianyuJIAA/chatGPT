{
 "cells": [
  {
   "cell_type": "markdown",
   "metadata": {},
   "source": [
    "## GPT模型\n",
    "前面详细介绍了Transformer结构, 现在要介绍下GPT结构, 其与Transformer结构类似, 且只包含Decoder结构  \n",
    "\n",
    "<img src=\"./images/GPT结构.png\" alt=\"examples\" style=\"zoom:45%;\" />  \n",
    "\n",
    "如上图所示, GPT包含的关键组件有:  \n",
    "1.多头自注意力：通过ScaledDotProductAttention类实现缩放点积注意力机制，然后通过MultiHeadAttention类实现多头自注意力机制  \n",
    "2.逐位置前馈网络：通过PoswiseFeedForwardNet类实现逐位置前馈网络  \n",
    "3.正弦位置编码表：通过get_sin_code_table函数生成正弦位置编码表  \n",
    "4.填充掩码：通过get_attn_pad_mask函数为填充令牌`<pad>`生成注意力掩码，避免注意力机制关注无用的信息  \n",
    "5.后续掩码：通过get_attn_subsequent_mask函数为后续令牌(当前位置后面的信息)生成注意力掩码，避免解码器中的注意力机制\"偷窥\"未来的目标数据  \n",
    "6.解码器层：通过DecoderLayer类定义解码器的单层  \n",
    "7.解码器：通过Decoder类定义Transformer完整的解码器部分\n",
    "8.GPT：在上述结构的基础上增加一个投影层，将解码器层输出的特征向量转换为预测输出，实现文本生成  \n",
    "\n",
    "其中，组件1和组件5直接从前文复制过来即可，剩余组件需要重新定义"
   ]
  },
  {
   "cell_type": "code",
   "execution_count": 188,
   "metadata": {},
   "outputs": [],
   "source": [
    "import numpy as np\n",
    "import torch\n",
    "import torch.nn as nn\n",
    "d_k = 64 \n",
    "d_v = 64\n",
    "\n",
    "# 定义缩放点积注意力函数\n",
    "class ScaledDotProductAttention(nn.Module):\n",
    "    def __init__(self):\n",
    "        super(ScaledDotProductAttention, self).__init__()\n",
    "    def forward(self, Q, K, V, attn_mask):\n",
    "        #------------------------- 维度信息 --------------------------------\n",
    "        # Q K V [batch_size, n_heads, seq_len, seq_dim] -> fea_dim = n_heads * seq_dim\n",
    "        # attn_mask [batch_size, n_heads, len_q, len_k]\n",
    "        #------------------------------------------------------------------\n",
    "        \n",
    "        # 计算注意力分数（原始权重）[batch_size, n_heads, len_q, len_k]\n",
    "        scores = torch.matmul(Q, K.transpose(-1, -2)) / np.sqrt(d_k)\n",
    "        \n",
    "        # 使用注意力掩码，将attn_mask中值为1(或者是布尔类型的true)的位置(填充位置)的权重替换为极小值\n",
    "        scores.masked_fill_(attn_mask, -1e9)\n",
    "        \n",
    "        # 对注意力分数进行softmax归一化处理\n",
    "        # weight -> [batch_size, n_heads, len_q, len_k]\n",
    "        weight = nn.Softmax(dim=-1)(scores)\n",
    "        \n",
    "        # 再次点积操作，计算上下文向量(注意力的输出)\n",
    "        # context -> [batch_size, n_heads, len_q, dim_v]\n",
    "        context = torch.matmul(weight, V)\n",
    "        return context, weight      "
   ]
  },
  {
   "cell_type": "code",
   "execution_count": 189,
   "metadata": {},
   "outputs": [],
   "source": [
    "# 定义多头自注意力类\n",
    "d_embedding = 512 # Embedding维度\n",
    "n_heads = 8 # 多头注意力的头数 fea_dim = 512 / 8 = 64\n",
    "batch_size = 3\n",
    "class MultiHeadAttention(nn.Module):\n",
    "    def __init__(self):\n",
    "        super(MultiHeadAttention, self).__init__()\n",
    "        self.W_Q = nn.Linear(d_embedding, d_k * n_heads) # Q的线性变换层\n",
    "        self.W_K = nn.Linear(d_embedding, d_k * n_heads) # K的线性变换层\n",
    "        self.W_V= nn.Linear(d_embedding, d_v * n_heads) # V的线性变换层\n",
    "        self.linear = nn.Linear(d_v * n_heads, d_embedding)\n",
    "        self.layer_norm = nn.LayerNorm(d_embedding)\n",
    "    \n",
    "    def forward(self, Q, K, V, attn_mask):\n",
    "        #------------------------- 维度信息 --------------------------------\n",
    "        # Q K V -> [batch_size, len_q/len_k,len_v, embedding_dim]\n",
    "        #------------------------------------------------------------------\n",
    "        residual, batch_size = Q, Q.size(0) # 保留残差连接\n",
    "        \n",
    "        # 将输入进行线性变换和重塑，以便后续处理\n",
    "        q_s = self.W_Q(Q).view(batch_size, -1, n_heads, d_k).transpose(1, 2)\n",
    "        k_s = self.W_K(K).view(batch_size, -1, n_heads, d_k).transpose(1, 2)\n",
    "        v_s = self.W_V(V).view(batch_size, -1, n_heads, d_v).transpose(1, 2)\n",
    "        \n",
    "        #------------------------- 维度信息 -------------------------------- \n",
    "        # q_s k_s v_s -> [batch_size, n_heads, len_q/k/v, d_k/k/v]\n",
    "        #------------------------------------------------------------------\n",
    "        # 将注意力掩码复制到多头\n",
    "        # 先通过unsqueeze来增加一个维度(batch_size, 1, len_q, len_k)\n",
    "        # 然后复制n_heads次数据，保证在每个头上的掩码数据都一致\n",
    "        attn_mask = attn_mask.unsqueeze(1).repeat(1, n_heads, 1, 1)\n",
    "        \n",
    "        #------------------------- 维度信息 -------------------------------- \n",
    "        # attn_mask -> [batch_size, n_heads, len_q, len_k]\n",
    "        #------------------------------------------------------------------\n",
    "        # 使用缩放点积注意力计算上下文和注意力权重\n",
    "        context, weights = ScaledDotProductAttention()(q_s, k_s, v_s, attn_mask)\n",
    "        \n",
    "        #------------------------- 维度信息 -------------------------------- \n",
    "        # context -> [batch_size, n_heads, len_q, dim_v]\n",
    "        # weights -> [batch_size, n_heads, len_q, len_k]\n",
    "        #------------------------------------------------------------------\n",
    "        # 将多个头的上下文向量连接在一起\n",
    "        # context -> [batch_size, len_q, n_heads * dim_v]\n",
    "        context = context.transpose(1, 2).contiguous().view(batch_size, -1, n_heads * d_v)\n",
    "        \n",
    "        # 线性变换，转换为embedding_size\n",
    "        output = self.linear(context)\n",
    "        #------------------------- 维度信息 -------------------------------- \n",
    "        # output -> [batch_size, len_q, embedding_dim]\n",
    "        #------------------------------------------------------------------\n",
    "\n",
    "        # 与输入残差连接，并进行层一化处理\n",
    "        output = self.layer_norm(output + residual)\n",
    "        \n",
    "        # 返回层归一化的结果和注意力权重\n",
    "        return output, weights        "
   ]
  },
  {
   "cell_type": "code",
   "execution_count": 190,
   "metadata": {},
   "outputs": [],
   "source": [
    "# 定义逐位置前馈网络\n",
    "class PoswiseFeedForwardNet(nn.Module):\n",
    "    def __init__(self, d_ff=2048):\n",
    "        super(PoswiseFeedForwardNet, self).__init__()\n",
    "        # 定义一维卷积层，用于将输入映射到高维度\n",
    "        self.conv1 = nn.Conv1d(in_channels=d_embedding, out_channels=d_ff, kernel_size=1)\n",
    "        # 定义一维卷积层，用于将输入映射回原始维度\n",
    "        self.conv2 = nn.Conv1d(in_channels=d_ff, out_channels=d_embedding, kernel_size=1)\n",
    "        # 定义层归一化\n",
    "        self.layer_norm = nn.LayerNorm(d_embedding)\n",
    "    def forward(self, inputs):\n",
    "        #------------------------- 维度信息 -------------------------------- \n",
    "        # input -> [batch_size, len_q, embedding_dim]\n",
    "        #------------------------------------------------------------------\n",
    "        residual = inputs # 保留残差连接\n",
    "        \n",
    "        # 将输入进行卷积运算之后的激活函数时ReLU\n",
    "        output = nn.ReLU()(self.conv1(inputs.transpose(1, 2)))\n",
    "        \n",
    "        #------------------------- 维度信息 -------------------------------- \n",
    "        # output -> [batch_size, d_ff, len_q]\n",
    "        #------------------------------------------------------------------\n",
    "        residual = inputs # 保留残差连接\n",
    "        \n",
    "        # 使用第二个卷积层机进行降维\n",
    "        output = self.conv2(output).transpose(1, 2)\n",
    "        #------------------------- 维度信息 -------------------------------- \n",
    "        # output -> [batch_size, len_q, d_embedding]\n",
    "        #------------------------------------------------------------------\n",
    "        \n",
    "        # 残差连接+归一化\n",
    "        output = self.layer_norm(output + residual)\n",
    "        \n",
    "        return output    "
   ]
  },
  {
   "cell_type": "code",
   "execution_count": 191,
   "metadata": {},
   "outputs": [],
   "source": [
    "# 生成正弦位置编码表的函数，用于在 Transformer 中引入位置信息\n",
    "def get_sin_enc_table(n_position, embedding_dim):\n",
    "    #------------------------- 维度信息 --------------------------------\n",
    "    # n_position: 输入序列的最大长度\n",
    "    # embedding_dim: 词嵌入向量的维度\n",
    "    #-----------------------------------------------------------------    \n",
    "    # 根据位置和维度信息，初始化正弦位置编码表\n",
    "    sinusoid_table = np.zeros((n_position, embedding_dim))    \n",
    "    # 遍历所有位置和维度，计算角度值\n",
    "    for pos_i in range(n_position):\n",
    "        for hid_j in range(embedding_dim):\n",
    "            angle = pos_i / np.power(10000, 2 * (hid_j // 2) / embedding_dim)\n",
    "            sinusoid_table[pos_i, hid_j] = angle    \n",
    "    # 计算正弦和余弦值\n",
    "    sinusoid_table[:, 0::2] = np.sin(sinusoid_table[:, 0::2])  # dim 2i 偶数维\n",
    "    sinusoid_table[:, 1::2] = np.cos(sinusoid_table[:, 1::2])  # dim 2i+1 奇数维    \n",
    "    #------------------------- 维度信息 --------------------------------\n",
    "    # sinusoid_table 的维度是 [n_position, embedding_dim]\n",
    "    #----------------------------------------------------------------   \n",
    "    return torch.FloatTensor(sinusoid_table)  # 返回正弦位置编码表"
   ]
  },
  {
   "cell_type": "code",
   "execution_count": 192,
   "metadata": {},
   "outputs": [],
   "source": [
    "def get_attn_pad_mask(seq_q, seq_k):\n",
    "    #------------------------- 维度信息 --------------------------------\n",
    "    # seq_q 的维度是 [batch_size, len_q]\n",
    "    # seq_k 的维度是 [batch_size, len_k]\n",
    "    #-----------------------------------------------------------------\n",
    "\n",
    "    batch_size, len_q = seq_q.size()\n",
    "    batch_size, len_k = seq_k.size()\n",
    "    \n",
    "    # 生成boolean类型张量，即将seq_k中token为0的位置变为true\n",
    "    pad_attn_mask = seq_k.data.eq(0).unsqueeze(1)\n",
    "    \n",
    "    #------------------------- 维度信息 --------------------------------\n",
    "    # pad_attn_mask 的维度是 [batch_size, 1, len_k]\n",
    "    #-----------------------------------------------------------------\n",
    "    # 再次变形为与注意力分数相同形状的张量 -> [batch_size, len_q, len_k]\n",
    "    pad_attn_mask = pad_attn_mask.expand(batch_size, len_q, len_k)\n",
    "    \n",
    "    return pad_attn_mask\n",
    "    "
   ]
  },
  {
   "cell_type": "code",
   "execution_count": 193,
   "metadata": {},
   "outputs": [],
   "source": [
    "import numpy as np\n",
    "def get_attn_subsequent_mask(seq):\n",
    "    #------------------------- 维度信息 --------------------------------\n",
    "    # seq 的维度是 [batch_size, seq_len(Q)=seq_len(K)]\n",
    "    #-----------------------------------------------------------------\n",
    "    # 获取输入序列的形状\n",
    "    attn_shape = [seq.size(0), seq.size(1), seq.size(1)]\n",
    "    \n",
    "    # 通过numpy创建一个上三角矩阵(triu = triangle upper)\n",
    "    # subsequent_mask -> [batch_size, seq_len(Q), seq_len(K)]\n",
    "    subsequent_mask = np.triu(np.ones(attn_shape), k=1)\n",
    "    \n",
    "    # 将numpy数组转换为Pytorch张量，并将数据类型设置为byte(布尔值)\n",
    "    subsequent_mask = torch.from_numpy(subsequent_mask).byte()\n",
    "    \n",
    "    return subsequent_mask"
   ]
  },
  {
   "cell_type": "markdown",
   "metadata": {},
   "source": [
    "### 组件6: 解码器层\n",
    "GPT的解码器层比较简单，相比于Transformer少了解码器-编码器注意力，因此模型的训练速度也大大提升了。这主要还是因为GPT是一个单向生成式模型，只关注生成文本而不关注源文本"
   ]
  },
  {
   "cell_type": "code",
   "execution_count": 194,
   "metadata": {},
   "outputs": [],
   "source": [
    "class DecoderLayer(nn.Module):\n",
    "    def __init__(self):\n",
    "        super(DecoderLayer, self).__init__()\n",
    "        self.self_attn = MultiHeadAttention()\n",
    "        self.feed_forward = PoswiseFeedForwardNet()\n",
    "        # 原来的代码中还有nn.LayerNorm层归一化操作，这次是不需要，因为在自注意力和前馈网络中已经有了\n",
    "    \n",
    "    def forward(self, dec_inputs, attn_amsk=None):\n",
    "        attn_output, _ = self.self_attn(dec_inputs, dec_inputs, dec_inputs, attn_amsk)\n",
    "        dec_outputs = self.feed_forward(attn_output)\n",
    "        return dec_outputs"
   ]
  },
  {
   "cell_type": "markdown",
   "metadata": {},
   "source": [
    "### 组件7: 解码器类"
   ]
  },
  {
   "cell_type": "code",
   "execution_count": 195,
   "metadata": {},
   "outputs": [],
   "source": [
    "n_layers = 6\n",
    "class Decoder(nn.Module):\n",
    "    def __init__(self, vocab_size, max_seq_len):\n",
    "        super(Decoder, self).__init__()\n",
    "        # 词嵌入层\n",
    "        self.src_emb = nn.Embedding(vocab_size, d_embedding)\n",
    "        # 位置编码层\n",
    "        self.pos_emb = nn.Embedding(max_seq_len, d_embedding)\n",
    "        # 初始化n个解码器层\n",
    "        self.layers = nn.ModuleList(DecoderLayer() for _ in range(n_layers))\n",
    "    \n",
    "    def forward(self, dec_inputs):\n",
    "        # 创建位置信息 数据将被保存在与dec_inputs相同的设备上\n",
    "        positions = torch.arange(len(dec_inputs), device=dec_inputs.device).unsqueeze(-1)\n",
    "        # 词嵌入与位置编码相加\n",
    "        inputs_embedding = self.src_emb(dec_inputs) + self.pos_emb(positions)\n",
    "        # 填充掩码\n",
    "        attn_pad_mask = get_attn_pad_mask(dec_inputs, dec_inputs)\n",
    "        # 后续掩码\n",
    "        self_attn_mask = get_attn_subsequent_mask(dec_inputs)\n",
    "        attn_mask = torch.gt((attn_pad_mask + self_attn_mask), 0).to(device)\n",
    "        dec_outputs = inputs_embedding\n",
    "        for layer in self.layers:\n",
    "            dec_outputs = layer(dec_outputs, attn_mask)\n",
    "        return dec_outputs"
   ]
  },
  {
   "cell_type": "markdown",
   "metadata": {},
   "source": [
    "### 组件8: GPT模型"
   ]
  },
  {
   "cell_type": "code",
   "execution_count": 196,
   "metadata": {},
   "outputs": [],
   "source": [
    "class GPT(nn.Module):\n",
    "    def __init__(self, vocab_size, max_seq_len):\n",
    "        super(GPT, self).__init__()\n",
    "        self.decoder = Decoder(vocab_size, max_seq_len)\n",
    "        self.projection = nn.Linear(d_embedding, vocab_size)\n",
    "    def forward(self, dec_inputs):\n",
    "        dec_output = self.decoder(dec_inputs)\n",
    "        output = self.projection(dec_output)\n",
    "        return output"
   ]
  },
  {
   "cell_type": "markdown",
   "metadata": {},
   "source": [
    "## 模型训练和预测"
   ]
  },
  {
   "cell_type": "markdown",
   "metadata": {},
   "source": [
    "### 处理语料"
   ]
  },
  {
   "cell_type": "code",
   "execution_count": 197,
   "metadata": {},
   "outputs": [],
   "source": [
    "from collections import Counter\n",
    "class LanguageCorpus:\n",
    "    def __init__(self, sentences):\n",
    "        self.sentences = sentences\n",
    "        # 计算语料中句子的最大长度，并加2以容纳特殊符号\n",
    "        self.seq_len = max([len(sentence.split()) for sentence in sentences]) + 2\n",
    "        self.vocab = self.create_vocabulary() # 创建词汇表\n",
    "        self.idx2word = {v: k for k, v in self.vocab.items()} # 创建索引到单词的映射关系\n",
    "        \n",
    "    def create_vocabulary(self):\n",
    "        vocab = {'<pad>': 0, '<sos>': 1, '<eos>': 2}\n",
    "        counter = Counter()\n",
    "        # 统计语料库的单词频率\n",
    "        for sentence in self.sentences:\n",
    "            words = sentence.split()\n",
    "            counter.update(words)\n",
    "        # 创建词汇表，并给每个word分配唯一的索引值\n",
    "        for word in counter:\n",
    "            if word not in vocab:\n",
    "                vocab[word] = len(vocab)\n",
    "        \n",
    "        return vocab\n",
    "    \n",
    "    def make_batch(self, batch_size, test_batch=False):\n",
    "        input_batch, output_batch = [], []\n",
    "        sentences_indices = torch.randperm(len(self.sentences))[:batch_size] # 随机选择句子索引\n",
    "        for index in sentences_indices:\n",
    "            sentence = self.sentences[index]\n",
    "            # 将句子转换为索引序列\n",
    "            seq = [self.vocab['<sos>']] + [self.vocab[word] for word in sentence.split()] + [self.vocab['<eos>']]\n",
    "            seq += [self.vocab['<pad>']] * (self.seq_len - len(seq)) # 通过pad填充序列\n",
    "            # 创建训练和目标数据\n",
    "            input_batch.append(seq[:-1])\n",
    "            output_batch.append(seq[1:])\n",
    "        return torch.LongTensor(input_batch), torch.LongTensor(output_batch)"
   ]
  },
  {
   "cell_type": "markdown",
   "metadata": {},
   "source": [
    "### 读取小批量文本数据"
   ]
  },
  {
   "cell_type": "code",
   "execution_count": 198,
   "metadata": {},
   "outputs": [
    {
     "name": "stdout",
     "output_type": "stream",
     "text": [
      "语料库的词汇表大小: 133\n",
      "最长句子长度: 17\n"
     ]
    }
   ],
   "source": [
    "with open('lang.txt', 'r') as file:\n",
    "    sentences = [line.strip() for line in file.readlines()]\n",
    "\n",
    "corpus = LanguageCorpus(sentences)\n",
    "max_seq_len = corpus.seq_len\n",
    "vocab_size = len(corpus.vocab)\n",
    "\n",
    "print(f\"语料库的词汇表大小: {vocab_size}\")\n",
    "print(f\"最长句子长度: {max_seq_len}\")"
   ]
  },
  {
   "cell_type": "markdown",
   "metadata": {},
   "source": [
    "### 模型训练"
   ]
  },
  {
   "cell_type": "code",
   "execution_count": 199,
   "metadata": {},
   "outputs": [
    {
     "name": "stdout",
     "output_type": "stream",
     "text": [
      "Epoch: 0100 cost = 0.298699\n",
      "Epoch: 0200 cost = 0.331234\n",
      "Epoch: 0300 cost = 0.305218\n",
      "Epoch: 0400 cost = 0.209336\n",
      "Epoch: 0500 cost = 0.206406\n"
     ]
    }
   ],
   "source": [
    "import torch.optim as optim\n",
    "device = \"cuda\" if torch.cuda.is_available() else \"cpu\"\n",
    "# 创建模型实例\n",
    "model = GPT(vocab_size, max_seq_len).to(device)\n",
    "# 定义损失函数和优化器\n",
    "criterion = nn.CrossEntropyLoss()\n",
    "optimizer = optim.Adam(model.parameters(), lr=0.0001)\n",
    "epochs = 500\n",
    "for epoch in range(epochs):\n",
    "    optimizer.zero_grad()\n",
    "    inputs, targets = corpus.make_batch(batch_size)\n",
    "    inputs, targets = inputs.to(device), targets.to(device)\n",
    "    outpus = model(inputs)\n",
    "    loss = criterion(outpus.view(-1, vocab_size), targets.view(-1))\n",
    "    if (epoch + 1) % 100 == 0:\n",
    "        print(f\"Epoch: {epoch + 1:04d} cost = {loss:.6f}\")\n",
    "    loss.backward()\n",
    "    optimizer.step()"
   ]
  },
  {
   "cell_type": "markdown",
   "metadata": {},
   "source": [
    "### 文本生成中的自回归(贪婪搜索)"
   ]
  },
  {
   "cell_type": "code",
   "execution_count": 200,
   "metadata": {},
   "outputs": [
    {
     "name": "stdout",
     "output_type": "stream",
     "text": [
      "torch.Size([1, 1])\n",
      "torch.Size([3, 16, 133])\n",
      "tensor([4])\n",
      "torch.Size([1, 2])\n",
      "torch.Size([3, 16, 133])\n",
      "tensor([5])\n",
      "torch.Size([1, 3])\n",
      "torch.Size([3, 16, 133])\n",
      "tensor([6])\n",
      "torch.Size([1, 4])\n",
      "torch.Size([3, 16, 133])\n",
      "tensor([7])\n",
      "torch.Size([1, 5])\n",
      "torch.Size([3, 16, 133])\n",
      "tensor([8])\n",
      "torch.Size([1, 6])\n",
      "torch.Size([3, 16, 133])\n",
      "tensor([2])\n",
      " 生成的文本 : Python is a popular programming language.\n"
     ]
    }
   ],
   "source": [
    "# 测试文本生成\n",
    "def generate_text(model, input_str, max_len=50):\n",
    "    model.eval()  # 将模型设置为评估（测试）模式，关闭 dropout 和 batch normalization 等训练相关的层\n",
    "    # 将输入字符串中的每个 token 转换为其在词汇表中的索引\n",
    "    input_tokens = [corpus.vocab[token] for token in input_str]\n",
    "    # 创建一个新列表，将输入的 tokens 复制到输出 tokens 中 , 目前只有输入的词\n",
    "    output_tokens = input_tokens.copy()\n",
    "    with torch.no_grad():  # 禁用梯度计算，以节省内存并加速测试过程\n",
    "        for _ in range(max_len):  # 生成最多 max_len 个 tokens\n",
    "            # 将输出的 token 转换为 PyTorch 张量，并增加一个代表批次的维度 [1, len(output_tokens)]\n",
    "            inputs = torch.LongTensor(output_tokens).unsqueeze(0).to(device)\n",
    "            print(inputs.shape)\n",
    "            outputs = model(inputs) # 输出 logits 形状为 [1, len(output_tokens), vocab_size]\n",
    "            print(outpus.shape)\n",
    "            # 在最后一个维度上获取 logits 中的最大值，并返回其索引（即下一个 token）\n",
    "            _, next_token = torch.max(outputs[:, -1, :], dim=-1)     \n",
    "            print(next_token)       \n",
    "            next_token = next_token.item() # 将张量转换为 Python 整数            \n",
    "            if next_token == corpus.vocab[\"<eos>\"]:\n",
    "                break # 如果生成的 token 是 EOS（结束符），则停止生成过程           \n",
    "            output_tokens.append(next_token) # 将生成的 tokens 添加到 output_tokens 列表\n",
    "    # 将输出 tokens 转换回文本字符串\n",
    "    output_str = \" \".join([corpus.idx2word[token] for token in output_tokens])\n",
    "    return output_str\n",
    "input_str = [\"Python\"] # 输入一个词：Python\n",
    "generated_text = generate_text(model, input_str) # 模型跟着这个词生成后续文本\n",
    "print(\" 生成的文本 :\", generated_text) # 打印预测文本"
   ]
  }
 ],
 "metadata": {
  "kernelspec": {
   "display_name": "Python 3",
   "language": "python",
   "name": "python3"
  },
  "language_info": {
   "codemirror_mode": {
    "name": "ipython",
    "version": 3
   },
   "file_extension": ".py",
   "mimetype": "text/x-python",
   "name": "python",
   "nbconvert_exporter": "python",
   "pygments_lexer": "ipython3",
   "version": "3.7.7"
  }
 },
 "nbformat": 4,
 "nbformat_minor": 2
}
