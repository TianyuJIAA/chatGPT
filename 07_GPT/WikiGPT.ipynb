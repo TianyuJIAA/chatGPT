{
 "cells": [
  {
   "cell_type": "markdown",
   "metadata": {},
   "source": [
    "## GPT in wiki\n",
    "之前都是通过自建的文本喂入模型进行训练，接下来使用真实的文本训练GPT"
   ]
  },
  {
   "cell_type": "markdown",
   "metadata": {},
   "source": [
    "### 模型结构\n",
    "模型结构直接从前面复制过来"
   ]
  },
  {
   "cell_type": "code",
   "execution_count": 2,
   "metadata": {},
   "outputs": [],
   "source": [
    "import numpy as np\n",
    "import torch\n",
    "import torch.nn as nn # 导入torch.nn库\n",
    "d_k = 64 # K(=Q)维度\n",
    "d_v = 64 # V维度\n",
    "# 定义缩放点积注意力类\n",
    "class ScaledDotProductAttention(nn.Module):\n",
    "    def __init__(self):\n",
    "        super(ScaledDotProductAttention, self).__init__()        \n",
    "    def forward(self, Q, K, V, attn_mask):        \n",
    "        # Q K V [batch_size, n_heads, len_q/k/v, dim_q=k/v] (dim_q=dim_k)\n",
    "        # 计算注意力分数（原始权重）[batch_size，n_heads，len_q，len_k]\n",
    "        scores = torch.matmul(Q, K.transpose(-1, -2)) / np.sqrt(d_k) \n",
    "        # 使用注意力掩码，将attn_mask中值为1的位置的权重替换为极小值\n",
    "        # attn_mask [batch_size,n_heads,len_q,len_k],形状和scores相同\n",
    "        scores.masked_fill_(attn_mask, -1e9) \n",
    "        # 对注意力分数进行softmax\n",
    "        weights = nn.Softmax(dim=-1)(scores)\n",
    "        # 计算上下文向量（也就是注意力的输出）, 是上下文信息的紧凑表示\n",
    "        context = torch.matmul(weights, V)\n",
    "        return context, weights # 返回上下文向量和注意力分数"
   ]
  },
  {
   "cell_type": "code",
   "execution_count": 3,
   "metadata": {},
   "outputs": [],
   "source": [
    "# 定义多头注意力类\n",
    "d_embedding = 512  # Embedding Size\n",
    "n_heads = 8  # number of heads in Multi-Head Attention\n",
    "batch_size = 3 # 每一批数据量\n",
    "class MultiHeadAttention(nn.Module):\n",
    "    def __init__(self):\n",
    "        super(MultiHeadAttention, self).__init__()\n",
    "        self.W_Q = nn.Linear(d_embedding, d_k * n_heads) # Q的线性变换层\n",
    "        self.W_K = nn.Linear(d_embedding, d_k * n_heads) # K的线性变换层\n",
    "        self.W_V = nn.Linear(d_embedding, d_v * n_heads) # V的线性变换层\n",
    "        self.linear = nn.Linear(n_heads * d_v, d_embedding)\n",
    "        self.layer_norm = nn.LayerNorm(d_embedding)\n",
    "\n",
    "    def forward(self, Q, K, V, attn_mask): \n",
    "        # Q K V [batch_size,len_q/k/v,embedding_dim]        \n",
    "        residual, batch_size = Q, Q.size(0) # 保留残差连接\n",
    "        # 将输入进行线性变换和重塑，以便后续处理\n",
    "        # q_s k_s v_s: [batch_size,n_heads.,len_q/k/v,d_q=k/v]\n",
    "        q_s = self.W_Q(Q).view(batch_size, -1, n_heads, d_k).transpose(1,2)        \n",
    "        k_s = self.W_K(K).view(batch_size, -1, n_heads, d_k).transpose(1,2)\n",
    "        v_s = self.W_V(V).view(batch_size, -1, n_heads, d_v).transpose(1,2)\n",
    "        # 将注意力掩码复制到多头 [batch_size,n_heads,len_q,len_k]\n",
    "        attn_mask = attn_mask.unsqueeze(1).repeat(1, n_heads, 1, 1)\n",
    "        # 使用缩放点积注意力计算上下文和注意力权重\n",
    "        context, weights = ScaledDotProductAttention()(q_s, k_s, v_s, attn_mask)\n",
    "        # 重塑上下文向量并进行线性变换，[batch_size，len_q，n_heads * dim_v]\n",
    "        context = context.transpose(1, 2).contiguous().view(batch_size, -1, n_heads * d_v) \n",
    "        output = self.linear(context)\n",
    "        # 与输入(Q)进行残差链接，并进行层归一化后输出[batch_size, len_q, embedding_dim]\n",
    "        output = self.layer_norm(output + residual)\n",
    "        return output, weights # 返回层归一化的输出和注意力权重"
   ]
  },
  {
   "cell_type": "code",
   "execution_count": 4,
   "metadata": {},
   "outputs": [],
   "source": [
    "# 定义逐位置前向传播网络类\n",
    "class PoswiseFeedForwardNet(nn.Module):\n",
    "    def __init__(self):\n",
    "        super(PoswiseFeedForwardNet, self).__init__()\n",
    "        # 定义一维卷积层1，用于将输入映射到更高维度\n",
    "        self.conv1 = nn.Conv1d(in_channels=d_embedding, out_channels=2048, kernel_size=1)\n",
    "        # 定义一维卷积层2，用于将输入映射回原始维度\n",
    "        self.conv2 = nn.Conv1d(in_channels=2048, out_channels=d_embedding, kernel_size=1)\n",
    "        # 定义层归一化\n",
    "        self.layer_norm = nn.LayerNorm(d_embedding)\n",
    "\n",
    "    def forward(self, inputs): \n",
    "        # inputs: [batch_size, len_q, embedding_dim]        \n",
    "        residual = inputs  # 保留残差连接\n",
    "        # 在卷积层1后使用ReLU激活函数\n",
    "        output = nn.ReLU()(self.conv1(inputs.transpose(1, 2)))\n",
    "        # 使用卷积层2进行降维\n",
    "        output = self.conv2(output).transpose(1, 2)\n",
    "        # 与输入进行残差链接，并进行层归一化，[batch_size, len_q, embedding_dim]\n",
    "        output = self.layer_norm(output + residual)\n",
    "        return output # 返回层归一化后的输出加上残差连接的结果"
   ]
  },
  {
   "cell_type": "code",
   "execution_count": 5,
   "metadata": {},
   "outputs": [],
   "source": [
    "import numpy as np\n",
    "def get_sin_enc_table(n_position, embedding_dim):\n",
    "    # 根据位置和维度信息，初始化正弦位置编码表\n",
    "    sinusoid_table = np.zeros((n_position, embedding_dim))    \n",
    "    # 遍历所有位置和维度，计算角度值\n",
    "    for pos_i in range(n_position):\n",
    "        for hid_j in range(embedding_dim):\n",
    "            angle = pos_i / np.power(10000, 2 * (hid_j // 2) / embedding_dim)\n",
    "            sinusoid_table[pos_i, hid_j] = angle    \n",
    "    # 计算正弦和余弦值\n",
    "    sinusoid_table[:, 0::2] = np.sin(sinusoid_table[:, 0::2])  # dim 2i 偶数维\n",
    "    sinusoid_table[:, 1::2] = np.cos(sinusoid_table[:, 1::2])  # dim 2i+1 奇数维    \n",
    "    return torch.FloatTensor(sinusoid_table)"
   ]
  },
  {
   "cell_type": "code",
   "execution_count": 6,
   "metadata": {},
   "outputs": [],
   "source": [
    "# 生成填充注意力掩码的函数，用于在多头自注意力计算中忽略填充部分\n",
    "def get_attn_pad_mask(seq_q, seq_k):\n",
    "    batch_size, len_q = seq_q.size()\n",
    "    batch_size, len_k = seq_k.size()\n",
    "    # 生成布尔类型张量[batch_size，1，len_k(=len_q)]\n",
    "    pad_attn_mask = seq_k.data.eq(0).unsqueeze(1)  #<PAD> Token的编码值为0 \n",
    "    # 变形为何注意力分数相同形状的张量 [batch_size，len_q，len_k]\n",
    "    pad_attn_mask = pad_attn_mask.expand(batch_size, len_q, len_k) \n",
    "    return pad_attn_mask # 形状[batch_size，len_q，len_k]"
   ]
  },
  {
   "cell_type": "code",
   "execution_count": 7,
   "metadata": {},
   "outputs": [],
   "source": [
    "# 生成后续注意力掩码的函数，用于在多头自注意力计算中忽略未来信息\n",
    "def get_attn_subsequent_mask(seq):\n",
    "    # 获取输入序列的形状 [batch_size, seq_len(len_q), seq_len(len_k)]\n",
    "    attn_shape = [seq.size(0), seq.size(1), seq.size(1)]\n",
    "    # 使用numpy创建一个上三角矩阵（triu = triangle upper）\n",
    "    subsequent_mask = np.triu(np.ones(attn_shape), k=1)\n",
    "    # 将numpy数组转换为PyTorch张量，并将数据类型设置为byte（布尔值）\n",
    "    subsequent_mask = torch.from_numpy(subsequent_mask).byte()\n",
    "    return subsequent_mask # [batch_size, seq_len(len_q), seq_len(len_k)]"
   ]
  },
  {
   "cell_type": "code",
   "execution_count": 8,
   "metadata": {},
   "outputs": [],
   "source": [
    "# 构建解码器层\n",
    "class DecoderLayer(nn.Module):\n",
    "    def __init__(self):\n",
    "        super(DecoderLayer, self).__init__()\n",
    "        self.self_attn = MultiHeadAttention()  # 多头自注意力层\n",
    "        self.feed_forward = PoswiseFeedForwardNet()  # 位置前馈神经网络层\n",
    "        self.norm1 = nn.LayerNorm(d_embedding)  # 第一个层归一化\n",
    "        self.norm2 = nn.LayerNorm(d_embedding)  # 第二个层归一化\n",
    "\n",
    "    def forward(self, dec_inputs, attn_mask=None):\n",
    "        # 使用多头自注意力处理输入\n",
    "        attn_output, _ = self.self_attn(dec_inputs, dec_inputs, dec_inputs, attn_mask)\n",
    "        # 将注意力输出与输入相加并进行第一个层归一化\n",
    "        norm1_outputs = self.norm1(dec_inputs + attn_output)\n",
    "        # 将归一化后的输出输入到位置前馈神经网络\n",
    "        ff_outputs = self.feed_forward(norm1_outputs)\n",
    "        # 将前馈神经网络输出与第一次归一化后的输出相加并进行第二个层归一化\n",
    "        dec_outputs = self.norm2(norm1_outputs + ff_outputs)\n",
    "        return dec_outputs"
   ]
  },
  {
   "cell_type": "code",
   "execution_count": 9,
   "metadata": {},
   "outputs": [],
   "source": [
    "# 构建解码器\n",
    "n_layers = 6  # 设置Encoder/Decoder的层数\n",
    "device = \"cuda\" if torch.cuda.is_available() else \"cpu\"  # 设置设备\n",
    "class Decoder(nn.Module):\n",
    "    def __init__(self, vocab_size, max_seq_len):\n",
    "        super(Decoder, self).__init__()\n",
    "        self.src_emb = nn.Embedding(vocab_size, d_embedding)  # 词嵌入层（参数为词典维度）\n",
    "        self.pos_emb = nn.Embedding(max_seq_len, d_embedding)  # 位置编码层（参数为序列长度）        \n",
    "        self.layers = nn.ModuleList([DecoderLayer() for _ in range(n_layers)]) # 初始化N个解码器层\n",
    "\n",
    "    def forward(self, dec_inputs):        \n",
    "        positions = torch.arange(len(dec_inputs), device=dec_inputs.device).unsqueeze(-1) #位置信息        \n",
    "        inputs_embedding = self.src_emb(dec_inputs) + self.pos_emb(positions) # 词嵌入与位置编码相加        \n",
    "        attn_mask = get_attn_subsequent_mask(inputs_embedding).to(device) # 生成自注意力掩码        \n",
    "        for layer in self.layers:\n",
    "            dec_outputs = layer(inputs_embedding, attn_mask) # 将输入数据传递给解码器层\n",
    "        return dec_outputs"
   ]
  },
  {
   "cell_type": "code",
   "execution_count": 10,
   "metadata": {},
   "outputs": [],
   "source": [
    "class GPT(nn.Module):\n",
    "    def __init__(self, vocab_size, max_seq_len):\n",
    "        super(GPT, self).__init__()\n",
    "        self.decoder = Decoder(vocab_size, max_seq_len) # 解码器，用于学习文本生成能力\n",
    "        self.projection = nn.Linear(d_embedding, vocab_size)  # 全连接层，输出预测结果\n",
    "\n",
    "    def forward(self, dec_inputs):        \n",
    "        dec_outputs = self.decoder(dec_inputs) # 将输入数据传递给解码器\n",
    "        logits = self.projection(dec_outputs) # 传递给全连接层以生成预测\n",
    "        return logits #返回预测结果"
   ]
  },
  {
   "cell_type": "markdown",
   "metadata": {},
   "source": [
    "### WikiText2构建Dataset和DataLoader\n",
    "通过Pytorch的Trochtext库来加载和预处理文本数据"
   ]
  },
  {
   "cell_type": "markdown",
   "metadata": {},
   "source": [
    "#### 下载语料库，构建词汇表"
   ]
  },
  {
   "cell_type": "code",
   "execution_count": 14,
   "metadata": {},
   "outputs": [
    {
     "name": "stdout",
     "output_type": "stream",
     "text": [
      "<generator object yield_tokens at 0x7f8c582fa7d0>\n",
      "13\n"
     ]
    }
   ],
   "source": [
    "# 测试下相关专业函数\n",
    "from torchtext.data.utils import get_tokenizer # 分词工具\n",
    "from torchtext.vocab import build_vocab_from_iterator # vocabularty工具\n",
    "\n",
    "corpus = [\"Hello world!\", \"You can now install TorchText using pip!\"]\n",
    "\n",
    "tokenizer = get_tokenizer(\"basic_english\")\n",
    "\n",
    "# 生成器\n",
    "def yield_tokens(data_iter):\n",
    "    for data in data_iter:\n",
    "        yield tokenizer(data)\n",
    "\n",
    "print(yield_tokens(corpus))\n",
    "\n",
    "vocab = build_vocab_from_iterator(yield_tokens(corpus), specials=[\"<pad>\", \"<sos>\", \"<eos>\"])\n",
    "vocab.set_default_index(vocab['<pad>'])\n",
    "print(len(vocab))"
   ]
  },
  {
   "cell_type": "code",
   "execution_count": 36,
   "metadata": {},
   "outputs": [
    {
     "name": "stdout",
     "output_type": "stream",
     "text": [
      "[]\n",
      "['=', 'valkyria', 'chronicles', 'iii', '=']\n",
      "[]\n",
      "['senjō', 'no', 'valkyria', '3', '<unk>', 'chronicles', '(', 'japanese', '戦場のヴァルキュリア3', ',', 'lit', '.', 'valkyria', 'of', 'the', 'battlefield', '3', ')', ',', 'commonly', 'referred', 'to', 'as', 'valkyria', 'chronicles', 'iii', 'outside', 'japan', ',', 'is', 'a', 'tactical', 'role', '@-@', 'playing', 'video', 'game', 'developed', 'by', 'sega', 'and', 'media', '.', 'vision', 'for', 'the', 'playstation', 'portable', '.', 'released', 'in', 'january', '2011', 'in', 'japan', ',', 'it', 'is', 'the', 'third', 'game', 'in', 'the', 'valkyria', 'series', '.', '<unk>', 'the', 'same', 'fusion', 'of', 'tactical', 'and', 'real', '@-@', 'time', 'gameplay', 'as', 'its', 'predecessors', ',', 'the', 'story', 'runs', 'parallel', 'to', 'the', 'first', 'game', 'and', 'follows', 'the', 'nameless', ',', 'a', 'penal', 'military', 'unit', 'serving', 'the', 'nation', 'of', 'gallia', 'during', 'the', 'second', 'europan', 'war', 'who', 'perform', 'secret', 'black', 'operations', 'and', 'are', 'pitted', 'against', 'the', 'imperial', 'unit', '<unk>', 'raven', '.']\n"
     ]
    }
   ],
   "source": [
    "# 书中预处理数据部分的代码有问题，所以重新创建\n",
    "import io\n",
    "from torchtext.data.utils import get_tokenizer # 分词工具\n",
    "from torchtext.vocab import build_vocab_from_iterator # vocabularty工具\n",
    "\n",
    "corpus = [\"Hello world!\", \"You can now install TorchText using pip!\"]\n",
    "\n",
    "tokenizer = get_tokenizer(\"basic_english\")\n",
    "\n",
    "# 生成器\n",
    "def yield_tokens(file_path):\n",
    "    with io.open(file_path, encoding = 'utf-8') as f:\n",
    "        for line in f:\n",
    "            yield tokenizer(line)\n",
    "\n",
    "gen = yield_tokens('data/train.txt')"
   ]
  },
  {
   "cell_type": "code",
   "execution_count": 37,
   "metadata": {},
   "outputs": [
    {
     "name": "stdout",
     "output_type": "stream",
     "text": [
      "词汇表大小: 28785\n",
      "词汇示例(word to index): {'<pad>': 0, '<sos>': 1, '<eos>': 2, 'the': 3, 'apple': 11505}\n"
     ]
    }
   ],
   "source": [
    "from torchtext.datasets import WikiText2 # 导入WikiText2\n",
    "from torchtext.data.utils import get_tokenizer # 导入Tokenizer分词工具\n",
    "from torchtext.vocab import build_vocab_from_iterator # 导入Vocabulary工具\n",
    "from torch.utils.data import DataLoader, Dataset # 导入Pytorch的DataLoader和Dataset\n",
    "\n",
    "tokenizer = get_tokenizer(\"basic_english\") # 定义数据预处理所需的tokenizer\n",
    "\n",
    "train_path ='data/train.txt' # 加载WikiText2数据集的训练部分\n",
    "valid_path ='data/valid.txt'  # 加载WikiText2数据集的验证部分\n",
    "\n",
    "# 定义一个生成器函数，用于将数据集中的文本转换为tokens\n",
    "def yield_tokens(file_path):\n",
    "    with io.open(file_path, encoding = 'utf-8') as f:\n",
    "        for line in f:\n",
    "            yield tokenizer(line)\n",
    "\n",
    "# 创建词汇表，包括特殊tokens：\"<pad>\", \"<sos>\", \"<eos>\"\n",
    "vocab = build_vocab_from_iterator(yield_tokens(train_path), \n",
    "                                  specials=[\"<pad>\", \"<sos>\", \"<eos>\"])\n",
    "vocab.set_default_index(vocab[\"<pad>\"])\n",
    "\n",
    "# 打印词汇表信息\n",
    "print(\"词汇表大小:\", len(vocab))\n",
    "print(\"词汇示例(word to index):\", \n",
    "      {word: vocab[word] for word in [\"<pad>\", \"<sos>\", \"<eos>\", \"the\", \"apple\"]})"
   ]
  }
 ],
 "metadata": {
  "kernelspec": {
   "display_name": "Python 3",
   "language": "python",
   "name": "python3"
  },
  "language_info": {
   "codemirror_mode": {
    "name": "ipython",
    "version": 3
   },
   "file_extension": ".py",
   "mimetype": "text/x-python",
   "name": "python",
   "nbconvert_exporter": "python",
   "pygments_lexer": "ipython3",
   "version": "3.7.7"
  }
 },
 "nbformat": 4,
 "nbformat_minor": 2
}
