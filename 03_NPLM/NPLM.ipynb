{
 "cells": [
  {
   "cell_type": "markdown",
   "metadata": {},
   "source": [
    "### NPLM概述\n",
    "\n",
    "NPLM是一种将词汇映射到连续向量空间的方法，其核心思想是利用神经网络结构学习词汇的概率分布。NPLM通过利用前N-1个词来预测第N个词，这与N-Gram相似，但结构远远要比N-Gram要复杂\n"
   ]
  },
  {
   "cell_type": "markdown",
   "metadata": {},
   "source": [
    "### NPLM结构\n",
    "\n",
    "NPLM的结构包括三个部分：输入层、隐藏层和输出层。输入层将词汇映射到连续的向量空间(Embedding),隐藏层通过非线性激活函数学习词与词之间的复杂关系，输出层通过softmax函数产生下一个单词出现的概率，具体结构如图:\n",
    "\n",
    "<img src=\"./images/NPLM.png\" alt=\"img\" style=\"zoom: 30%;\" />"
   ]
  },
  {
   "cell_type": "markdown",
   "metadata": {},
   "source": [
    "### NPLM的实现"
   ]
  },
  {
   "cell_type": "markdown",
   "metadata": {},
   "source": [
    "> 1. 构建实验语料"
   ]
  },
  {
   "cell_type": "code",
   "execution_count": 140,
   "metadata": {},
   "outputs": [
    {
     "name": "stdout",
     "output_type": "stream",
     "text": [
      "词汇表长度 7\n",
      "{'爸爸': 0, '我': 1, '挨打': 2, '喜欢': 3, '爱': 4, '讨厌': 5, '玩具': 6}\n"
     ]
    }
   ],
   "source": [
    "sentences = [\"我 喜欢 玩具\", \"我 爱 爸爸\", \"我 讨厌 挨打\"] \n",
    "# 创建词汇表\n",
    "word_list = list(set(\" \".join(sentences).split()))\n",
    "# index -> word\n",
    "index_to_word = { index: word for index,word in enumerate(word_list)}\n",
    "word_to_index = { word: index for index,word in enumerate(word_list)}\n",
    "print(\"词汇表长度\",len(word_list))\n",
    "print(word_to_index)"
   ]
  },
  {
   "cell_type": "markdown",
   "metadata": {},
   "source": [
    "> 2. 生成NPLM数据"
   ]
  },
  {
   "cell_type": "code",
   "execution_count": 141,
   "metadata": {},
   "outputs": [
    {
     "name": "stdout",
     "output_type": "stream",
     "text": [
      "打印训练数据 tensor([[1, 4],\n",
      "        [1, 5]])\n"
     ]
    }
   ],
   "source": [
    "# 从语料库中生成批处理数据，一批一批的喂入网络进行训练\n",
    "import torch\n",
    "import random\n",
    "batch_size = 2\n",
    "def make_batch(batch_size):\n",
    "    input_batch = []\n",
    "    target_batch = []\n",
    "    sample_sentences = random.sample(sentences,batch_size) # 通过random随机选择数据\n",
    "    # print(sample_sentences)\n",
    "    for sentence in sample_sentences:\n",
    "        # 通过空格分隔词汇\n",
    "        split_sentences = sentence.split()\n",
    "        input = [word_to_index[ele] for ele in split_sentences[:-1]] # 将前n-1个词汇的索引作为输入\n",
    "        target = word_to_index[split_sentences[-1]] # 目标词汇为最后一个词\n",
    "        input_batch.append(input)\n",
    "        target_batch.append(target)\n",
    "    input_batch = torch.LongTensor(input_batch)\n",
    "    target_batch = torch.LongTensor(target_batch)\n",
    "    return input_batch, target_batch\n",
    "input_batch, targe_batch = make_batch(batch_size)\n",
    "print(\"打印训练数据\", input_batch)"
   ]
  },
  {
   "cell_type": "markdown",
   "metadata": {},
   "source": [
    "> 3. 构建NPLM模型"
   ]
  },
  {
   "cell_type": "code",
   "execution_count": 142,
   "metadata": {},
   "outputs": [],
   "source": [
    "import torch.nn as nn\n",
    "\n",
    "class NPLM(nn.Module):\n",
    "    def __init__(self, voc_size, embedding_size, n_hidden, n_step):\n",
    "        super(NPLM, self).__init__()\n",
    "        self.C = nn.Embedding(voc_size, embedding_size) # 定义一个词嵌入层\n",
    "        # 第一个线性层的输入是将前N-1个词汇的嵌入表示平铺:n_step * embedding_size，输出为隐藏层大小\n",
    "        self.l1 = nn.Linear(n_step * embedding_size, n_hidden)\n",
    "        # 第二个线性层的输出为voc_size\n",
    "        self.l2 = nn.Linear(n_hidden, voc_size)\n",
    "    def forward(self,X):\n",
    "        # 输入张量X的形状为[batch_size, n_step]\n",
    "        X = self.C(X) # [batch_size, n_step, embedding_size]\n",
    "        X = X.view(-1 ,n_step * embedding_size) # [batch_size, n_step * embedding_size]\n",
    "        hidden = torch.tanh(self.l1(X)) # [batch_size, n_hidden]\n",
    "        output = self.l2(hidden) # [batch_size, voc_size]\n",
    "        return output\n"
   ]
  },
  {
   "cell_type": "code",
   "execution_count": 143,
   "metadata": {},
   "outputs": [
    {
     "name": "stdout",
     "output_type": "stream",
     "text": [
      " NPLM 模型结构： NPLM(\n",
      "  (C): Embedding(7, 2)\n",
      "  (l1): Linear(in_features=4, out_features=2, bias=True)\n",
      "  (l2): Linear(in_features=2, out_features=7, bias=True)\n",
      ")\n"
     ]
    }
   ],
   "source": [
    "voc_size = len(word_list)\n",
    "n_step = 2 # 时间步数，表示每个输入序列的长度，也就是上下文长度 \n",
    "n_hidden = 2 # 隐藏层大小\n",
    "embedding_size = 2 # 词嵌入大小\n",
    "model = NPLM(voc_size, embedding_size, n_hidden, n_step) # 创建神经概率语言模型实例\n",
    "print(' NPLM 模型结构：', model) # 打印模型的结构"
   ]
  },
  {
   "cell_type": "markdown",
   "metadata": {},
   "source": [
    "> 4. 模型训练"
   ]
  },
  {
   "cell_type": "code",
   "execution_count": 147,
   "metadata": {},
   "outputs": [
    {
     "name": "stdout",
     "output_type": "stream",
     "text": [
      "Epoch: 1000 cost = 0.000006\n",
      "Epoch: 2000 cost = 0.000002\n",
      "Epoch: 3000 cost = 0.000001\n",
      "Epoch: 4000 cost = 0.000000\n",
      "Epoch: 5000 cost = 0.000000\n"
     ]
    }
   ],
   "source": [
    "import torch.optim as optim\n",
    "criterion = nn.CrossEntropyLoss()\n",
    "optimizer = optim.Adam(model.parameters(), lr = 0.01)\n",
    "# 训练模型\n",
    "for epoch in range(5000):\n",
    "    optimizer.zero_grad()\n",
    "    input, target = make_batch(2)\n",
    "    output = model(input)\n",
    "    loss = criterion(output, target)\n",
    "    if (epoch + 1) % 1000 == 0: # 每 1000 次迭代，打印损失值\n",
    "        print('Epoch:', '%04d' % (epoch + 1), 'cost =', '{:.6f}'.format(loss))\n",
    "    loss.backward()\n",
    "    optimizer.step()"
   ]
  },
  {
   "cell_type": "code",
   "execution_count": 145,
   "metadata": {},
   "outputs": [
    {
     "name": "stdout",
     "output_type": "stream",
     "text": [
      "原始张量维度： torch.Size([1, 3, 1, 4])\n",
      "tensor([[[[-1.5833, -0.4457, -0.8972,  0.8893]],\n",
      "\n",
      "         [[ 0.3489, -1.5189, -1.0801,  1.3319]],\n",
      "\n",
      "         [[ 0.1954, -2.3678,  0.3898, -0.1858]]]])\n",
      "去除维度后的张量维度： torch.Size([3, 4])\n",
      "tensor([[-1.5833, -0.4457, -0.8972,  0.8893],\n",
      "        [ 0.3489, -1.5189, -1.0801,  1.3319],\n",
      "        [ 0.1954, -2.3678,  0.3898, -0.1858]])\n"
     ]
    }
   ],
   "source": [
    "import torch\n",
    "\n",
    "# 创建一个维度为 (1, 3, 1, 4) 的张量\n",
    "x = torch.randn(1, 3, 1, 4)\n",
    "print(\"原始张量维度：\", x.shape)  # 输出：torch.Size([1, 3, 1, 4])\n",
    "print(x)\n",
    "\n",
    "# 使用 squeeze() 方法去除大小为 1 的维度\n",
    "x_squeezed = x.squeeze()\n",
    "print(\"去除维度后的张量维度：\", x_squeezed.shape)  # 输出：torch.Size([3, 4])\n",
    "print(x_squeezed)\n"
   ]
  },
  {
   "cell_type": "markdown",
   "metadata": {},
   "source": [
    "> 5. 预测"
   ]
  },
  {
   "cell_type": "code",
   "execution_count": 158,
   "metadata": {},
   "outputs": [
    {
     "name": "stdout",
     "output_type": "stream",
     "text": [
      "[[1, 5], [1, 3]]\n",
      "tensor([2, 6])\n",
      "['我', '讨厌'] -> 挨打\n",
      "['我', '喜欢'] -> 玩具\n"
     ]
    }
   ],
   "source": [
    "# 进行预测\n",
    "input_strs = [['我', '讨厌'], ['我', '喜欢']]  # 需要预测的输入序列\n",
    "# 将输入序列转换为对应的索引\n",
    "input_indices = [[word_to_index[word] for word in seq] for seq in input_strs]\n",
    "# 将输入序列的索引转换为张量\n",
    "print(input_indices)\n",
    "input_batch = torch.LongTensor(input_indices) \n",
    "# 对输入序列进行预测，取输出中概率最大的类别\n",
    "# .data从模型输出中提取实际的张量数据, .max(1)获得沿词汇维度张量数据的最大值并返回其最大值和对应的索引, 因此[1]表示对的索引\n",
    "predict = model(input_batch).data.max(1)[1]\n",
    "print(predict)\n",
    "# 将预测结果的索引转换为对应的词\n",
    "predict_strs = [index_to_word[n.item()] for n in predict.squeeze()]  \n",
    "for input_seq, pred in zip(input_strs, predict_strs):\n",
    "   print(input_seq, '->', pred)  # 打印输入序列和预测结果"
   ]
  },
  {
   "cell_type": "markdown",
   "metadata": {},
   "source": [
    "### NPLM的优缺点\n",
    "优点\n",
    "\n",
    "- 可以自动学习复杂的特征表示，减少了手工特征工程的需求\n",
    "- 对大量数据进行高效的处理，学习词与词之间的语义和语法关系\n",
    "- 具有强大的拟合能力\n",
    "  \n",
    "缺点\n",
    "\n",
    "- 模型结构简单，仍然属于浅层的神经元网络。对于复杂的语言模式和长距离依赖关系，就无法捕捉到足够大信息\n",
    "- 窗口大小固定，也就是线性层的大小为n_step * embedding_size固定了输入序列的大小，限制了模型处理不同长度上下文的能力\n",
    "- 词汇表固定，无法处理训练集中未出现的词汇，泛化能力较弱\n",
    "- 缺乏位置信息，没有考虑输入序列中单词的顺序，使模型无法捕捉词与词之间的顺序关系网"
   ]
  }
 ],
 "metadata": {
  "kernelspec": {
   "display_name": "Python 3",
   "language": "python",
   "name": "python3"
  },
  "language_info": {
   "codemirror_mode": {
    "name": "ipython",
    "version": 3
   },
   "file_extension": ".py",
   "mimetype": "text/x-python",
   "name": "python",
   "nbconvert_exporter": "python",
   "pygments_lexer": "ipython3",
   "version": "3.7.7"
  }
 },
 "nbformat": 4,
 "nbformat_minor": 2
}
