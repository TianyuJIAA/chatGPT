{
 "cells": [
  {
   "cell_type": "code",
   "execution_count": 1,
   "metadata": {},
   "outputs": [
    {
     "name": "stdout",
     "output_type": "stream",
     "text": [
      "9\n",
      "{'Mazong': 0, 'Student': 1, 'Teacher': 2, 'Xiaobing': 3, 'Niuzong': 4, 'Boss': 5, 'is': 6, 'Kage': 7, 'Xiaoxue': 8}\n",
      "{0: 'Mazong', 1: 'Student', 2: 'Teacher', 3: 'Xiaobing', 4: 'Niuzong', 5: 'Boss', 6: 'is', 7: 'Kage', 8: 'Xiaoxue'}\n"
     ]
    }
   ],
   "source": [
    "# 定义一个句子列表，后面会用这些句子来训练 CBOW 和 Skip-Gram 模型\n",
    "sentences = [\"Kage is Teacher\", \"Mazong is Boss\", \"Niuzong is Boss\",\n",
    "             \"Xiaobing is Student\", \"Xiaoxue is Student\",]\n",
    "\n",
    "# 构建词汇表并打印\n",
    "sentences_list = ' '.join(sentences).split()\n",
    "word_list = list(set(sentences_list))\n",
    "# 创建字典\n",
    "# word -> index\n",
    "word_to_idx = {word: index for index,word in enumerate(word_list)}\n",
    "# index -> word\n",
    "idx_to_word = {index: word for index,word in enumerate(word_list)}\n",
    "voc_size = len(idx_to_word)\n",
    "print(len(word_list))\n",
    "print(word_to_idx)\n",
    "print(idx_to_word)"
   ]
  },
  {
   "cell_type": "code",
   "execution_count": 2,
   "metadata": {},
   "outputs": [
    {
     "name": "stdout",
     "output_type": "stream",
     "text": [
      "[('is', 'Kage'), ('Kage', 'is'), ('Teacher', 'is'), ('Kage', 'Teacher'), ('is', 'Teacher'), ('is', 'Mazong'), ('Mazong', 'is'), ('Boss', 'is'), ('Mazong', 'Boss'), ('is', 'Boss'), ('is', 'Niuzong'), ('Niuzong', 'is'), ('Boss', 'is'), ('Niuzong', 'Boss'), ('is', 'Boss'), ('is', 'Xiaobing'), ('Xiaobing', 'is'), ('Student', 'is'), ('Xiaobing', 'Student'), ('is', 'Student'), ('is', 'Xiaoxue'), ('Xiaoxue', 'is'), ('Student', 'is'), ('Xiaoxue', 'Student'), ('is', 'Student')]\n"
     ]
    }
   ],
   "source": [
    "# 生成训练数据\n",
    "def create_skipgram_dataset(sentences, window_size=2):\n",
    "    data = [] # 初始化数据\n",
    "    for sentence in sentences: # 遍历句子\n",
    "        sentence = sentence.split()\n",
    "        for idx, word in enumerate(sentence):\n",
    "            # 需要获取的词汇长度: window_sise + idx + window_size\n",
    "            for neighbor in sentence[max(idx - window_size, 0) : min(idx + window_size, len(sentence))]:\n",
    "                if neighbor != word:\n",
    "                    data.append((neighbor, word))\n",
    "    return data\n",
    "\n",
    "# Skip-Grim创建训练数据 (neighbor, word) = (target, input)\n",
    "train_set = create_skipgram_dataset(sentences=sentences)\n",
    "print(train_set[0: len(train_set)])"
   ]
  },
  {
   "cell_type": "code",
   "execution_count": 5,
   "metadata": {},
   "outputs": [
    {
     "name": "stdout",
     "output_type": "stream",
     "text": [
      "模型结构: SkipGram(\n",
      "  (input_to_hidden): Embedding(9, 2)\n",
      "  (hidden_to_output): Linear(in_features=2, out_features=9, bias=True)\n",
      ")\n"
     ]
    }
   ],
   "source": [
    "# 通过继承nn.Module类来实现SkipGram类\n",
    "import torch.nn as nn # 导入神经网络库\n",
    "class SkipGram(nn.Module):\n",
    "    def __init__(self, voc_size, embedding_size):\n",
    "        \"\"\"\n",
    "        embedding_size为词向量维度\n",
    "        \"\"\"\n",
    "        super(SkipGram, self).__init__()\n",
    "        # 输入(ont-hot)到嵌入层 math:`y = xA^T + b`\n",
    "        self.input_to_hidden = nn.Embedding(voc_size, embedding_size) \n",
    "        # 从嵌入层到输出层(等于词汇表大小)\n",
    "        self.hidden_to_output = nn.Linear(embedding_size, voc_size)\n",
    "    \n",
    "    def forward(self, X): # 前向传播 X形状为(batch_size, voc_size)\n",
    "        embedding = self.input_to_hidden(X) # (batch_size, embedding_size)\n",
    "        output = self.hidden_to_output(embedding) # (batch_size, voc_size)\n",
    "        return output\n",
    "\n",
    "embedding_size = 2 # 词向量的维度, 设置为2是为了后面便于展示相关性, 通常为几百。其实通过t-SNE对高维数据降维可视化\n",
    "# 实例化模型\n",
    "skipgram_model = SkipGram(voc_size, embedding_size)\n",
    "print(\"模型结构:\", skipgram_model)"
   ]
  },
  {
   "cell_type": "code",
   "execution_count": 6,
   "metadata": {},
   "outputs": [
    {
     "name": "stdout",
     "output_type": "stream",
     "text": [
      "Epoch: 100, Loss: 2.038466730117798\n",
      "Epoch: 200, Loss: 1.9205970120429994\n",
      "Epoch: 300, Loss: 1.8464883685112\n",
      "Epoch: 400, Loss: 1.7808708214759827\n",
      "Epoch: 500, Loss: 1.71323392868042\n",
      "Epoch: 600, Loss: 1.6446639430522918\n",
      "Epoch: 700, Loss: 1.581173424720764\n",
      "Epoch: 800, Loss: 1.5271625518798828\n",
      "Epoch: 900, Loss: 1.4830488020181656\n",
      "Epoch: 1000, Loss: 1.446930668950081\n"
     ]
    },
    {
     "data": {
      "image/png": "[encoded data removed]",
      "text/plain": [
       "<Figure size 640x480 with 1 Axes>"
      ]
     },
     "metadata": {},
     "output_type": "display_data"
    }
   ],
   "source": [
    "# 设置一些模型训练的参数\n",
    "import torch\n",
    "learning_rate = 0.001 # 设置学习率\n",
    "epochs = 1000 # 训练轮次\n",
    "criterion = nn.CrossEntropyLoss() # 定义交叉熵损失函数\n",
    "import torch.optim as optim\n",
    "optimizer = optim.SGD(skipgram_model.parameters(), lr=learning_rate) # 梯度下降优化器\n",
    "# 开始训练\n",
    "loss_values = [] # 用于存储每轮的平均损失值\n",
    "for epoch in range(epochs):\n",
    "    loss_sum = 0\n",
    "    for context, target in train_set:\n",
    "        X = torch.tensor([word_to_idx[target]], dtype=torch.long) \n",
    "        y_true = torch.tensor([word_to_idx[context]], dtype=torch.long)\n",
    "        y_pred = skipgram_model(X) # 得到预测值\n",
    "        loss = criterion(y_pred, y_true) # 损失函数\n",
    "        loss_sum += loss.item()\n",
    "        optimizer.zero_grad() # 清空梯度\n",
    "        loss.backward() # 误差反向传播, 主要是为了获得梯度\n",
    "        optimizer.step() # 更新参数\n",
    "    if (epoch+1) % 100 == 0:\n",
    "        print(f\"Epoch: {epoch+1}, Loss: {loss_sum/len(train_set)}\")  \n",
    "        loss_values.append(loss_sum / len(train_set))\n",
    "\n",
    "# 绘制损失函数曲线\n",
    "import matplotlib.pyplot as plt\n",
    "# 绘制二维词向量图\n",
    "plt.rcParams[\"font.family\"]=['Arial Unicode MS'] # 用来设定字体样式\n",
    "plt.rcParams['font.sans-serif']=['Arial Unicode MS'] # 用来设定无衬线字体样式\n",
    "plt.rcParams['axes.unicode_minus']=False # 用来正常显示负号\n",
    "plt.plot(range(1, epochs//100 + 1), loss_values) # 绘图\n",
    "plt.title(' 训练损失曲线 ') # 图题\n",
    "plt.xlabel(' 轮次 ') # X 轴 Label\n",
    "plt.ylabel(' 损失 ') # Y 轴 Label\n",
    "plt.show() # 显示图"
   ]
  },
  {
   "cell_type": "code",
   "execution_count": 8,
   "metadata": {},
   "outputs": [
    {
     "name": "stdout",
     "output_type": "stream",
     "text": [
      "Mazong:[-0.378952   1.1144148]\n",
      "Student:[-1.5829555  2.3961875]\n",
      "Teacher:[-0.5760074  1.0133035]\n",
      "Xiaobing:[0.25490108 1.5309372 ]\n",
      "Niuzong:[0.21221615 0.50760174]\n",
      "Boss:[1.3386612  0.36076048]\n",
      "is:[-0.32547382 -0.8626813 ]\n",
      "Kage:[0.19888775 0.966512  ]\n",
      "Xiaoxue:[0.7833309 0.4951613]\n"
     ]
    }
   ],
   "source": [
    "# 打印词嵌入向量\n",
    "for word,idx in word_to_idx.items():\n",
    "    print(f\"{word}:{skipgram_model.input_to_hidden.weight[idx].detach().numpy()}\")"
   ]
  }
 ],
 "metadata": {
  "kernelspec": {
   "display_name": "Python 3",
   "language": "python",
   "name": "python3"
  },
  "language_info": {
   "codemirror_mode": {
    "name": "ipython",
    "version": 3
   },
   "file_extension": ".py",
   "mimetype": "text/x-python",
   "name": "python",
   "nbconvert_exporter": "python",
   "pygments_lexer": "ipython3",
   "version": "3.7.7"
  }
 },
 "nbformat": 4,
 "nbformat_minor": 2
}
