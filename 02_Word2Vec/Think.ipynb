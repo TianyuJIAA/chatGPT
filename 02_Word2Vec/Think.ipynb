{
 "cells": [
  {
   "cell_type": "markdown",
   "metadata": {},
   "source": [
    "## 思考题"
   ]
  },
  {
   "cell_type": "markdown",
   "metadata": {},
   "source": [
    "### 1.简述词向量的内涵和使用方法\n",
    "\n",
    "词向量也叫词嵌入，是一种寻找词与词之间相似性的nlp技术，它把词汇各个维度上的特征用数值向量进行表示，利用这些维度上特征的相似程度，就可以判断出哪些词语义更接近。词向量通常会为下游的RNN，Transformer等NLP模型做准备。"
   ]
  },
  {
   "cell_type": "markdown",
   "metadata": {},
   "source": [
    "### 2.CBOW模型的完整代码\n",
    "见CBOW.ipynb文件"
   ]
  },
  {
   "cell_type": "markdown",
   "metadata": {},
   "source": [
    "### 3.使用嵌入层替代线性层，完成实现Skip-Gram模型的代码，同时输出词嵌入\n",
    "见SkipGram-Embedding.ipynb文件"
   ]
  }
 ],
 "metadata": {
  "kernelspec": {
   "display_name": "Python 3",
   "language": "python",
   "name": "python3"
  },
  "language_info": {
   "name": "python",
   "version": "3.7.7"
  }
 },
 "nbformat": 4,
 "nbformat_minor": 2
}
