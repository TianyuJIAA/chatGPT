{
 "cells": [
  {
   "cell_type": "markdown",
   "metadata": {},
   "source": [
    "## CBOW模型\n",
    "\n",
    "与Skip-Gram模型不同的是，CBOW是通过上下文词来预测中心词，以此学习词汇的分布式表示(词向量)       \n",
    "训练集数据及模型结构与Skip-Gram有所区别，其他类似"
   ]
  },
  {
   "cell_type": "markdown",
   "metadata": {},
   "source": [
    "> 1.构建实验语料库"
   ]
  },
  {
   "cell_type": "code",
   "execution_count": 1,
   "metadata": {},
   "outputs": [
    {
     "name": "stdout",
     "output_type": "stream",
     "text": [
      "9\n",
      "{'Student': 0, 'Niuzong': 1, 'Teacher': 2, 'Boss': 3, 'Xiaoxue': 4, 'Xiaobing': 5, 'is': 6, 'Mazong': 7, 'Kage': 8}\n",
      "{0: 'Student', 1: 'Niuzong', 2: 'Teacher', 3: 'Boss', 4: 'Xiaoxue', 5: 'Xiaobing', 6: 'is', 7: 'Mazong', 8: 'Kage'}\n"
     ]
    }
   ],
   "source": [
    "# 定义一个句子列表，后面会用这些句子来训练 CBOW 和 Skip-Gram 模型\n",
    "sentences = [\"Kage is Teacher\", \"Mazong is Boss\", \"Niuzong is Boss\",\n",
    "             \"Xiaobing is Student\", \"Xiaoxue is Student\",]\n",
    "\n",
    "# 构建词汇表并打印\n",
    "sentences_list = ' '.join(sentences).split()\n",
    "word_list = list(set(sentences_list))\n",
    "# 创建字典\n",
    "# word -> index\n",
    "word_to_idx = {word: index for index,word in enumerate(word_list)}\n",
    "# index -> word\n",
    "idx_to_word = {index: word for index,word in enumerate(word_list)}\n",
    "voc_size = len(idx_to_word)\n",
    "print(len(word_list))\n",
    "print(word_to_idx)\n",
    "print(idx_to_word)"
   ]
  },
  {
   "cell_type": "markdown",
   "metadata": {},
   "source": [
    "> 2.生成Skip-Gram数据"
   ]
  },
  {
   "cell_type": "code",
   "execution_count": 5,
   "metadata": {},
   "outputs": [
    {
     "name": "stdout",
     "output_type": "stream",
     "text": [
      "Skip-Gram 数据样例（未编码）： [(['is', 'Teacher'], 'Kage'), (['Kage', 'Teacher'], 'is'), (['Kage', 'is'], 'Teacher'), (['is', 'Boss'], 'Mazong'), (['Mazong', 'Boss'], 'is'), (['Mazong', 'is'], 'Boss'), (['is', 'Boss'], 'Niuzong'), (['Niuzong', 'Boss'], 'is'), (['Niuzong', 'is'], 'Boss'), (['is', 'Student'], 'Xiaobing'), (['Xiaobing', 'Student'], 'is'), (['Xiaobing', 'is'], 'Student'), (['is', 'Student'], 'Xiaoxue'), (['Xiaoxue', 'Student'], 'is')]\n"
     ]
    }
   ],
   "source": [
    "# 生成 Skip-Gram 训练数据\n",
    "def create_cbow_dataset(sentences, window_size=2):\n",
    "    data = [] # 初始化数据\n",
    "    for sentence in sentences: # 遍历句子\n",
    "        sentence = sentence.split()  # 将句子分割成单词列表\n",
    "        for idx, word in enumerate(sentence):  # 遍历单词及其索引\n",
    "            # 获取相邻的单词，将当前单词前后各 N 个单词作为相邻单词\n",
    "            neighbor = sentence[max(idx - window_size, 0): idx] + sentence[idx + 1: min(idx + window_size + 1,len(sentence))] \n",
    "            data.append((neighbor, word))\n",
    "    return data\n",
    "# 使用函数创建 Skip-Gram 训练数据\n",
    "cbow_data = create_cbow_dataset(sentences)\n",
    "# 打印未编码的 Skip-Gram 数据样例（前 3 个）\n",
    "print(\"Skip-Gram 数据样例（未编码）：\", cbow_data[:-1]) # (input ,output)"
   ]
  },
  {
   "cell_type": "markdown",
   "metadata": {},
   "source": [
    "> 3.对训练数据进行one-hot编码"
   ]
  },
  {
   "cell_type": "code",
   "execution_count": 7,
   "metadata": {},
   "outputs": [
    {
     "name": "stdout",
     "output_type": "stream",
     "text": [
      "torch.Size([9])\n",
      "torch.Size([1, 9])\n",
      "tensor([[0., 0., 1., 0., 0., 0., 0., 0., 0.]])\n",
      "torch.Size([1])\n",
      "tensor([[0., 0., 0., 0., 0., 0., 1., 0., 0.],\n",
      "        [0., 0., 1., 0., 0., 0., 0., 0., 0.]])\n",
      "tensor([8])\n",
      "tensor([[0., 0., 0., 0., 0., 0., 0., 0., 1.],\n",
      "        [0., 0., 1., 0., 0., 0., 0., 0., 0.]])\n",
      "tensor([6])\n",
      "tensor([[0., 0., 0., 0., 0., 0., 0., 0., 1.],\n",
      "        [0., 0., 0., 0., 0., 0., 1., 0., 0.]])\n",
      "tensor([2])\n",
      "tensor([[0., 0., 0., 0., 0., 0., 1., 0., 0.],\n",
      "        [0., 0., 0., 1., 0., 0., 0., 0., 0.]])\n",
      "tensor([7])\n",
      "tensor([[0., 0., 0., 0., 0., 0., 0., 1., 0.],\n",
      "        [0., 0., 0., 1., 0., 0., 0., 0., 0.]])\n",
      "tensor([6])\n",
      "tensor([[0., 0., 0., 0., 0., 0., 0., 1., 0.],\n",
      "        [0., 0., 0., 0., 0., 0., 1., 0., 0.]])\n",
      "tensor([3])\n",
      "tensor([[0., 0., 0., 0., 0., 0., 1., 0., 0.],\n",
      "        [0., 0., 0., 1., 0., 0., 0., 0., 0.]])\n",
      "tensor([1])\n",
      "tensor([[0., 1., 0., 0., 0., 0., 0., 0., 0.],\n",
      "        [0., 0., 0., 1., 0., 0., 0., 0., 0.]])\n",
      "tensor([6])\n",
      "tensor([[0., 1., 0., 0., 0., 0., 0., 0., 0.],\n",
      "        [0., 0., 0., 0., 0., 0., 1., 0., 0.]])\n",
      "tensor([3])\n",
      "tensor([[0., 0., 0., 0., 0., 0., 1., 0., 0.],\n",
      "        [1., 0., 0., 0., 0., 0., 0., 0., 0.]])\n",
      "tensor([5])\n",
      "tensor([[0., 0., 0., 0., 0., 1., 0., 0., 0.],\n",
      "        [1., 0., 0., 0., 0., 0., 0., 0., 0.]])\n",
      "tensor([6])\n",
      "tensor([[0., 0., 0., 0., 0., 1., 0., 0., 0.],\n",
      "        [0., 0., 0., 0., 0., 0., 1., 0., 0.]])\n",
      "tensor([0])\n",
      "tensor([[0., 0., 0., 0., 0., 0., 1., 0., 0.],\n",
      "        [1., 0., 0., 0., 0., 0., 0., 0., 0.]])\n",
      "tensor([4])\n",
      "tensor([[0., 0., 0., 0., 1., 0., 0., 0., 0.],\n",
      "        [1., 0., 0., 0., 0., 0., 0., 0., 0.]])\n",
      "tensor([6])\n",
      "tensor([[0., 0., 0., 0., 1., 0., 0., 0., 0.],\n",
      "        [0., 0., 0., 0., 0., 0., 1., 0., 0.]])\n",
      "tensor([0])\n"
     ]
    }
   ],
   "source": [
    "import torch\n",
    "def ont_hot_encoding(word, word_to_idx):\n",
    "    tensor = torch.zeros(len(word_to_idx))\n",
    "    tensor[word_to_idx[word]] = 1\n",
    "    return tensor\n",
    "word = 'Teacher'\n",
    "tensor = ont_hot_encoding(word, word_to_idx)\n",
    "print(tensor.shape)\n",
    "print(tensor.float().unsqueeze(0).shape)\n",
    "print(tensor.float().unsqueeze(0))\n",
    "print(torch.tensor([word_to_idx[word]]).shape)\n",
    "\n",
    "for context, target in cbow_data:\n",
    "    X = torch.stack([ont_hot_encoding(word, word_to_idx) for word in context]).float()\n",
    "    y_true = torch.tensor([word_to_idx[target]], dtype=torch.long)\n",
    "    print(X)\n",
    "    print(y_true)"
   ]
  },
  {
   "cell_type": "markdown",
   "metadata": {},
   "source": [
    "> 4.定义CBOW模型结构"
   ]
  },
  {
   "cell_type": "code",
   "execution_count": 8,
   "metadata": {},
   "outputs": [
    {
     "name": "stdout",
     "output_type": "stream",
     "text": [
      "模型结构: CBOW(\n",
      "  (input_to_hidden): Linear(in_features=9, out_features=2, bias=False)\n",
      "  (hidden_to_output): Linear(in_features=2, out_features=9, bias=False)\n",
      ")\n"
     ]
    }
   ],
   "source": [
    "# 通过继承nn.Module类来实现CBOW类\n",
    "import torch.nn as nn # 导入神经网络库\n",
    "class CBOW(nn.Module):\n",
    "    def __init__(self, voc_size, embedding_size):\n",
    "        \"\"\"\n",
    "        embedding_size为词向量维度\n",
    "        \"\"\"\n",
    "        super(CBOW, self).__init__()\n",
    "        # 输入(ont-hot)到嵌入层 math:`y = xA^T + b`\n",
    "        self.input_to_hidden = nn.Linear(voc_size, embedding_size, bias=False) \n",
    "        # 从嵌入层到输出层(等于词汇表大小)\n",
    "        self.hidden_to_output = nn.Linear(embedding_size, voc_size, bias=False)\n",
    "    \n",
    "    def forward(self, X): # 前向传播 X形状为(num_context_words, voc_size)\n",
    "        embedding = self.input_to_hidden(X) # (num_context_words, embedding_size)\n",
    "        hidden_layer = torch.mean(embedding, dim=0)\n",
    "        output = self.hidden_to_output(hidden_layer.unsqueeze(0)) # (batch_size, voc_size)\n",
    "        return output\n",
    "\n",
    "embedding_size = 2 # 词向量的维度, 设置为2是为了后面便于展示相关性, 通常为几百。其实通过t-SNE对高维数据降维可视化\n",
    "# 实例化模型\n",
    "cbow_model = CBOW(voc_size, embedding_size)\n",
    "print(\"模型结构:\", cbow_model)"
   ]
  },
  {
   "cell_type": "markdown",
   "metadata": {},
   "source": [
    "> 5.开始训练"
   ]
  },
  {
   "cell_type": "code",
   "execution_count": 9,
   "metadata": {},
   "outputs": [
    {
     "name": "stdout",
     "output_type": "stream",
     "text": [
      "Epoch: 100, Loss: 2.2139399528503416\n",
      "Epoch: 200, Loss: 2.1946719169616697\n",
      "Epoch: 300, Loss: 2.175682051976522\n",
      "Epoch: 400, Loss: 2.1553058703740438\n",
      "Epoch: 500, Loss: 2.1319034973780315\n",
      "Epoch: 600, Loss: 2.1037625392278034\n",
      "Epoch: 700, Loss: 2.0690809726715087\n",
      "Epoch: 800, Loss: 2.026085623105367\n",
      "Epoch: 900, Loss: 1.9733753204345703\n",
      "Epoch: 1000, Loss: 1.9105819622675577\n"
     ]
    },
    {
     "data": {
      "image/png": "[encoded data removed]",
      "text/plain": [
       "<Figure size 640x480 with 1 Axes>"
      ]
     },
     "metadata": {},
     "output_type": "display_data"
    }
   ],
   "source": [
    "# 设置一些模型训练的参数\n",
    "learning_rate = 0.001 # 设置学习率\n",
    "epochs = 1000 # 训练轮次\n",
    "criterion = nn.CrossEntropyLoss() # 定义交叉熵损失函数\n",
    "import torch.optim as optim\n",
    "optimizer = optim.SGD(cbow_model.parameters(), lr=learning_rate) # 梯度下降优化器\n",
    "# 开始训练\n",
    "loss_values = [] # 用于存储每轮的平均损失值\n",
    "for epoch in range(epochs):\n",
    "    loss_sum = 0\n",
    "    for context, target in cbow_data:\n",
    "        X = torch.stack([ont_hot_encoding(word, word_to_idx) for word in context]).float() \n",
    "        y_true = torch.tensor([word_to_idx[target]], dtype=torch.long)\n",
    "        y_pred = cbow_model(X) # 得到预测值\n",
    "        loss = criterion(y_pred, y_true) # 损失函数\n",
    "        loss_sum += loss.item()\n",
    "        optimizer.zero_grad() # 清空梯度\n",
    "        loss.backward() # 误差反向传播, 主要是为了获得梯度\n",
    "        optimizer.step() # 更新参数\n",
    "    if (epoch+1) % 100 == 0:\n",
    "        print(f\"Epoch: {epoch+1}, Loss: {loss_sum/len(cbow_data)}\")  \n",
    "        loss_values.append(loss_sum / len(cbow_data))\n",
    "\n",
    "# 绘制损失函数曲线\n",
    "import matplotlib.pyplot as plt\n",
    "# 绘制二维词向量图\n",
    "plt.rcParams[\"font.family\"]=['Arial Unicode MS'] # 用来设定字体样式\n",
    "plt.rcParams['font.sans-serif']=['Arial Unicode MS'] # 用来设定无衬线字体样式\n",
    "plt.rcParams['axes.unicode_minus']=False # 用来正常显示负号\n",
    "plt.plot(range(1, epochs//100 + 1), loss_values) # 绘图\n",
    "plt.title(' 训练损失曲线 ') # 图题\n",
    "plt.xlabel(' 轮次 ') # X 轴 Label\n",
    "plt.ylabel(' 损失 ') # Y 轴 Label\n",
    "plt.show() # 显示图"
   ]
  }
 ],
 "metadata": {
  "kernelspec": {
   "display_name": "Python 3",
   "language": "python",
   "name": "python3"
  },
  "language_info": {
   "codemirror_mode": {
    "name": "ipython",
    "version": 3
   },
   "file_extension": ".py",
   "mimetype": "text/x-python",
   "name": "python",
   "nbconvert_exporter": "python",
   "pygments_lexer": "ipython3",
   "version": "3.7.7"
  }
 },
 "nbformat": 4,
 "nbformat_minor": 2
}
