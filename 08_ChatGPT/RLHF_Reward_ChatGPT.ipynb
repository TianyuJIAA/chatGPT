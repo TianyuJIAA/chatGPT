{
 "cells": [
  {
   "cell_type": "markdown",
   "metadata": {},
   "source": [
    "### 强化学习\n",
    "\n",
    "基于人类反馈的强化学习是ChatGPT中重要的一环，当然整个ChatGPT的训练工程(训练及调优)也是复杂和神秘的。其主要的训练步骤可能有以下几个步骤组成: \n",
    "\n",
    "\n"
   ]
  }
 ],
 "metadata": {
  "language_info": {
   "name": "python"
  }
 },
 "nbformat": 4,
 "nbformat_minor": 2
}
