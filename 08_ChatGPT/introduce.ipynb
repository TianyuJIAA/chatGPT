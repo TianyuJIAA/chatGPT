{
 "cells": [
  {
   "cell_type": "markdown",
   "metadata": {},
   "source": [
    "### 从GPT到ChatGPT\n",
    "\n",
    "前面主要搭建了简单的GPT模型，从17年以来GPT已经经过了多次版本的更迭，主要区别为:  \n",
    "\n",
    "<img src=\"./images/GPT_tren.png\" alt=\"examples\" style=\"zoom:45%;\" />\n",
    "\n",
    "ChatGPT是在GPT-3.5模型上进行的优化，也就是对预训练大模型进行微调，其中涌现了很多关键技术:  \n",
    "- 超大规模预训练数据 寸长寸强，随着模型参数`对数级`的增长，模型的能力也在不断提升，特别是参数大于60b的时候\n",
    "- 提示/指令模型(prompt/instruct learning) 通过`提示工程`，提升了模型在特定场景下袋准确性和可靠性\n",
    "- 思维链(chain of thought) 通过使用`代码`数据进行训练，语言模型可以获得推理能力\n",
    "- 基于人类反馈袋强化学习(RLHF) 利用人类对答案排序、标注，通过强化学习将`人类偏好`融入模型之中，使其更友好和安全\n",
    "- 控制性能 通过针对性地微调，可以更好地控制生成文本的长度、风格、内容等\n",
    "- 安全性和道德责任 在微调过程中增加了特定的安全性和道德约束\n",
    "\n",
    "接下来主要是通过自己构建的预训练模型以及huggingface的预训练模型来微调模型"
   ]
  }
 ],
 "metadata": {
  "language_info": {
   "name": "python"
  }
 },
 "nbformat": 4,
 "nbformat_minor": 2
}
