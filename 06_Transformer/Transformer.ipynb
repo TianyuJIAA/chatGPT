{
 "cells": [
  {
   "cell_type": "markdown",
   "metadata": {},
   "source": [
    "# Transformer\n",
    "前面学习了RNN和LSTM以及Seq2Seq，同时也接触了不同类型的注意力，现在要学习一个新的架构，它是后面要学习的Bert和GPT的核心-Transformer。  \n",
    "Transformer的核心就是自注意力机制，它能够为输入序列中的每个元素分配不同的权重，从而更好地捕捉序列内部的依赖关系。同时其抛弃了RNN和LSTM中的循环结构，采用了全新的编码器-解码器架构，使得模型可以并行处理输入数据，进一步加速训练过程，提高计算效率。  \n",
    "Transformer架构图:  \n",
    "<img src=\"./images/Transformer架构图.png\" alt=\"examples\" style=\"zoom:45%;\" />"
   ]
  },
  {
   "cell_type": "markdown",
   "metadata": {},
   "source": [
    "## Transformer组件\n",
    "根据上面的架构图，逐个组建去实现。  \n",
    "1.多头自注意力：通过ScaledDotProductAttention类实现缩放点积注意力机制，然后通过MultiHeadAttention类实现多头自注意力机制  \n",
    "2.逐位置前馈网络：通过PoswiseFeedForwardNet类实现逐位置前馈网络  \n",
    "3.正弦位置编码表：通过get_sin_code_table函数生成正弦位置编码表  \n",
    "4.填充掩码：通过get_attn_pad_mask函数为填充令牌`<pad>`生成注意力掩码，避免注意力机制关注无用的信息  \n",
    "5.编码器层：通过EncoderLayer类定义编码器的单层  \n",
    "6.编码器：通过Encoder类定义Transformer完整的编码器部分  \n",
    "7.后续掩码：通过get_attn_subsequent_mask函数为后续令牌(当前位置后面的信息)生成注意力掩码，避免解码器中的注意力机制\"偷窥\"未来的目标数据  \n",
    "8.解码器层：通过DecoderLayer类定义解码器的单层  \n",
    "9.解码器：通过Decoder类定义Transformer完整的解码器部分  \n",
    "10.Transformer类：此类将编码器和解码器整合为完整的Transformer模型"
   ]
  },
  {
   "cell_type": "markdown",
   "metadata": {},
   "source": [
    "### 组件1 多头自注意力(包含残差连接和层归一化)\n",
    "首先实现Transformer的核心组件，多头自注意力。主要有两个子组件，缩放点积注意力类和多头自注意力类"
   ]
  },
  {
   "cell_type": "markdown",
   "metadata": {},
   "source": [
    "#### 缩放点积注意力(加入掩码机制)\n",
    "\n",
    "<img src=\"./images/scaled_dot_attention_mask.png\" alt=\"examples\" style=\"zoom:45%;\" />\n",
    "\n",
    "掩码机制的说明:  \n",
    "这里加入的掩码机制主要是填充注意力掩码：当处理变长序列时，通常会对较短序列进行填充，使所有序列的长度一致，一边进行批量处理。  \n",
    "但是填充值是没有意义的，所以需要通过掩码机制将其设置为极小值，这样在应用softmax时填充位置的权重将接近于0，不会对模型产生影响。 "
   ]
  },
  {
   "cell_type": "code",
   "execution_count": 71,
   "metadata": {
    "metadata": {}
   },
   "outputs": [],
   "source": [
    "import numpy as np\n",
    "import torch\n",
    "import torch.nn as nn\n",
    "d_k = 64 \n",
    "d_v = 64\n",
    "\n",
    "# 定义缩放点积注意力函数\n",
    "class ScaledDotProductAttention(nn.Module):\n",
    "    def __init__(self):\n",
    "        super(ScaledDotProductAttention, self).__init__()\n",
    "    def forward(self, Q, K, V, attn_mask):\n",
    "        #------------------------- 维度信息 --------------------------------\n",
    "        # Q K V [batch_size, n_heads, seq_len, seq_dim] -> fea_dim = n_heads * seq_dim\n",
    "        # attn_mask [batch_size, n_heads, len_q, len_k]\n",
    "        #------------------------------------------------------------------\n",
    "        \n",
    "        # 计算注意力分数（原始权重）[batch_size, n_heads, len_q, len_k]\n",
    "        scores = torch.matmul(Q, K.transpose(-1, -2)) / np.sqrt(d_k)\n",
    "        \n",
    "        # 使用注意力掩码，将attn_mask中值为1(或者是布尔类型的true)的位置(填充位置)的权重替换为极小值\n",
    "        scores.masked_fill_(attn_mask, -1e9)\n",
    "        \n",
    "        # 对注意力分数进行softmax归一化处理\n",
    "        # weight -> [batch_size, n_heads, len_q, len_k]\n",
    "        weight = nn.Softmax(dim=-1)(scores)\n",
    "        \n",
    "        # 再次点积操作，计算上下文向量(注意力的输出)\n",
    "        # context -> [batch_size, n_heads, len_q, dim_v]\n",
    "        context = torch.matmul(weight, V)\n",
    "        return context, weight      "
   ]
  },
  {
   "cell_type": "markdown",
   "metadata": {},
   "source": [
    "#### 多头自注意力类(残差连接和层归一化)\n",
    "\n",
    "<img src=\"./images/multi_head_attention.png\" alt=\"examples\" style=\"zoom:45%;\" />\n",
    "\n",
    "残差连接:  \n",
    "残差连接是一种在神经网络中广泛使用的技术，用于加快网络的训练和提高模型的性能。在残差网络中，每个层都添加了一个跨层连接，可以将输入数据直接连接到输出数据，也可以将输入数据直接传传递到后续层次，从而提高信息的传递效率和网络的训练速度。  \n",
    "其实就是将输入与输出直接相加然后再通过激活函数。\n",
    "\n",
    "层归一化:  \n",
    "层归一化是一种正则化技巧，用于缓解神经网络中的内部协变量偏移问题。在Transformer模型中，层归一化通常应用于残差连接之后，用于对输出进行归一化。\n",
    "\n",
    "ref:  \n",
    "https://zhuanlan.zhihu.com/p/620297938  \n",
    "https://zhuanlan.zhihu.com/p/353062927"
   ]
  },
  {
   "cell_type": "code",
   "execution_count": 72,
   "metadata": {
    "metadata": {}
   },
   "outputs": [],
   "source": [
    "# 定义多头自注意力类\n",
    "d_embedding = 512 # Embedding维度\n",
    "n_heads = 8 # 多头注意力的头数 fea_dim = 512 / 8 = 64\n",
    "batch_size = 3\n",
    "class MultiHeadAttention(nn.Module):\n",
    "    def __init__(self):\n",
    "        super(MultiHeadAttention, self).__init__()\n",
    "        self.W_Q = nn.Linear(d_embedding, d_k * n_heads) # Q的线性变换层\n",
    "        self.W_K = nn.Linear(d_embedding, d_k * n_heads) # K的线性变换层\n",
    "        self.W_V= nn.Linear(d_embedding, d_v * n_heads) # V的线性变换层\n",
    "        self.linear = nn.Linear(d_v * n_heads, d_embedding)\n",
    "        self.layer_norm = nn.LayerNorm(d_embedding)\n",
    "    \n",
    "    def forward(self, Q, K, V, attn_mask):\n",
    "        #------------------------- 维度信息 --------------------------------\n",
    "        # Q K V -> [batch_size, len_q/len_k,len_v, embedding_dim]\n",
    "        #------------------------------------------------------------------\n",
    "        residual, batch_size = Q, Q.size(0) # 保留残差连接\n",
    "        \n",
    "        # 将输入进行线性变换和重塑，以便后续处理\n",
    "        q_s = self.W_Q(Q).view(batch_size, -1, n_heads, d_k).transpose(1, 2)\n",
    "        k_s = self.W_K(K).view(batch_size, -1, n_heads, d_k).transpose(1, 2)\n",
    "        v_s = self.W_V(V).view(batch_size, -1, n_heads, d_v).transpose(1, 2)\n",
    "        \n",
    "        #------------------------- 维度信息 -------------------------------- \n",
    "        # q_s k_s v_s -> [batch_size, n_heads, len_q/k/v, d_k/k/v]\n",
    "        #------------------------------------------------------------------\n",
    "        # 将注意力掩码复制到多头\n",
    "        # 先通过unsqueeze来增加一个维度(batch_size, 1, len_q, len_k)\n",
    "        # 然后复制n_heads次数据，保证在每个头上的掩码数据都一致\n",
    "        attn_mask = attn_mask.unsqueeze(1).repeat(1, n_heads, 1, 1)\n",
    "        \n",
    "        #------------------------- 维度信息 -------------------------------- \n",
    "        # attn_mask -> [batch_size, n_heads, len_q, len_k]\n",
    "        #------------------------------------------------------------------\n",
    "        # 使用缩放点积注意力计算上下文和注意力权重\n",
    "        context, weights = ScaledDotProductAttention()(q_s, k_s, v_s, attn_mask)\n",
    "        \n",
    "        #------------------------- 维度信息 -------------------------------- \n",
    "        # context -> [batch_size, n_heads, len_q, dim_v]\n",
    "        # weights -> [batch_size, n_heads, len_q, len_k]\n",
    "        #------------------------------------------------------------------\n",
    "        # 将多个头的上下文向量连接在一起\n",
    "        # context -> [batch_size, len_q, n_heads * dim_v]\n",
    "        context = context.transpose(1, 2).contiguous().view(batch_size, -1, n_heads * d_v)\n",
    "        \n",
    "        # 线性变换，转换为embedding_size\n",
    "        output = self.linear(context)\n",
    "        #------------------------- 维度信息 -------------------------------- \n",
    "        # output -> [batch_size, len_q, embedding_dim]\n",
    "        #------------------------------------------------------------------\n",
    "\n",
    "        # 与输入残差连接，并进行层一化处理\n",
    "        output = self.layer_norm(output + residual)\n",
    "        \n",
    "        # 返回层归一化的结果和注意力权重\n",
    "        return output, weights        "
   ]
  },
  {
   "cell_type": "markdown",
   "metadata": {},
   "source": [
    "### 组件2 逐位置前馈网络\n",
    "在编码器和解码器的每一层注意力层之后都会有一个前馈网络，起到进一步提取特征和表示的作用。论文中为全联接层，只不过这里不需要对注意力层的输出做flatten操作(堆叠)，所以这个前馈神经网络独立地作用在每输入序列的每个位置(token)上，这里使用了一维卷积层作为前馈神经网络。"
   ]
  },
  {
   "cell_type": "code",
   "execution_count": 73,
   "metadata": {},
   "outputs": [],
   "source": [
    "# 定义逐位置前馈网络\n",
    "class PoswiseFeedForwardNet(nn.Module):\n",
    "    def __init__(self, d_ff=2048):\n",
    "        super(PoswiseFeedForwardNet, self).__init__()\n",
    "        # 定义一维卷积层，用于将输入映射到高维度\n",
    "        self.conv1 = nn.Conv1d(in_channels=d_embedding, out_channels=d_ff, kernel_size=1)\n",
    "        # 定义一维卷积层，用于将输入映射回原始维度\n",
    "        self.conv2 = nn.Conv1d(in_channels=d_ff, out_channels=d_embedding, kernel_size=1)\n",
    "        # 定义层归一化\n",
    "        self.layer_norm = nn.LayerNorm(d_embedding)\n",
    "    def forward(self, inputs):\n",
    "        #------------------------- 维度信息 -------------------------------- \n",
    "        # input -> [batch_size, len_q, embedding_dim]\n",
    "        #------------------------------------------------------------------\n",
    "        residual = inputs # 保留残差连接\n",
    "        \n",
    "        # 将输入进行卷积运算之后的激活函数时ReLU\n",
    "        output = nn.ReLU()(self.conv1(inputs.transpose(1, 2)))\n",
    "        \n",
    "        #------------------------- 维度信息 -------------------------------- \n",
    "        # output -> [batch_size, d_ff, len_q]\n",
    "        #------------------------------------------------------------------\n",
    "        residual = inputs # 保留残差连接\n",
    "        \n",
    "        # 使用第二个卷积层机进行降维\n",
    "        output = self.conv2(output).transpose(1, 2)\n",
    "        #------------------------- 维度信息 -------------------------------- \n",
    "        # output -> [batch_size, len_q, d_embedding]\n",
    "        #------------------------------------------------------------------\n",
    "        \n",
    "        # 残差连接+归一化\n",
    "        output = self.layer_norm(output + residual)\n",
    "        \n",
    "        return output    "
   ]
  },
  {
   "cell_type": "markdown",
   "metadata": {},
   "source": [
    "### 组件3 正弦位置编码表\n",
    "在RNN中是不需要位置编码的，因为在建模过程中天然具有顺序的概念。但是Transformer架构使用多头自注意力的并行计算方式，因此丧失了token间的位置信息，所有通过正弦位置编码来引入位置信息。  \n",
    "\n",
    "ref:  \n",
    "https://zhuanlan.zhihu.com/p/626828066\n"
   ]
  },
  {
   "cell_type": "code",
   "execution_count": 74,
   "metadata": {
    "metadata": {}
   },
   "outputs": [],
   "source": [
    "# 生成正弦位置编码表的函数，用于在 Transformer 中引入位置信息\n",
    "def get_sin_enc_table(n_position, embedding_dim):\n",
    "    #------------------------- 维度信息 --------------------------------\n",
    "    # n_position: 输入序列的最大长度\n",
    "    # embedding_dim: 词嵌入向量的维度\n",
    "    #-----------------------------------------------------------------    \n",
    "    # 根据位置和维度信息，初始化正弦位置编码表\n",
    "    sinusoid_table = np.zeros((n_position, embedding_dim))    \n",
    "    # 遍历所有位置和维度，计算角度值\n",
    "    for pos_i in range(n_position):\n",
    "        for hid_j in range(embedding_dim):\n",
    "            angle = pos_i / np.power(10000, 2 * (hid_j // 2) / embedding_dim)\n",
    "            sinusoid_table[pos_i, hid_j] = angle    \n",
    "    # 计算正弦和余弦值\n",
    "    sinusoid_table[:, 0::2] = np.sin(sinusoid_table[:, 0::2])  # dim 2i 偶数维\n",
    "    sinusoid_table[:, 1::2] = np.cos(sinusoid_table[:, 1::2])  # dim 2i+1 奇数维    \n",
    "    #------------------------- 维度信息 --------------------------------\n",
    "    # sinusoid_table 的维度是 [n_position, embedding_dim]\n",
    "    #----------------------------------------------------------------   \n",
    "    return torch.FloatTensor(sinusoid_table)  # 返回正弦位置编码表"
   ]
  },
  {
   "cell_type": "markdown",
   "metadata": {},
   "source": [
    "### 组件4 填充掩码\n",
    "在nlp任务中序列的长度通常时不固定的，因此为了实现批量处理，通常需要进行填充操作(PAD)到固定的长度，也就是使用`<pad>`符号来作为填充符(token的值为0)。  \n",
    "但是这些填充信息是没有任何意义的，所以希望模型在计算注意力时忽略这部分数据。因此需要使用填充掩码机制，将无用的信息屏蔽，防止模型在计算注意时关注到填充位。  \n",
    "\n",
    "<img src=\"./images/pad_mask.png\" alt=\"examples\" style=\"zoom:45%;\" />"
   ]
  },
  {
   "cell_type": "code",
   "execution_count": 75,
   "metadata": {},
   "outputs": [],
   "source": [
    "def get_attn_pad_mask(seq_q, seq_k):\n",
    "    #------------------------- 维度信息 --------------------------------\n",
    "    # seq_q 的维度是 [batch_size, len_q]\n",
    "    # seq_k 的维度是 [batch_size, len_k]\n",
    "    #-----------------------------------------------------------------\n",
    "\n",
    "    batch_size, len_q = seq_q.size()\n",
    "    batch_size, len_k = seq_k.size()\n",
    "    \n",
    "    # 生成boolean类型张量，即将seq_k中token为0的位置变为true\n",
    "    pad_attn_mask = seq_k.data.eq(0).unsqueeze(1)\n",
    "    \n",
    "    #------------------------- 维度信息 --------------------------------\n",
    "    # pad_attn_mask 的维度是 [batch_size, 1, len_k]\n",
    "    #-----------------------------------------------------------------\n",
    "    # 再次变形为与注意力分数相同形状的张量 -> [batch_size, len_q, len_k]\n",
    "    pad_attn_mask = pad_attn_mask.expand(batch_size, len_q, len_k)\n",
    "    \n",
    "    return pad_attn_mask\n",
    "    "
   ]
  },
  {
   "cell_type": "markdown",
   "metadata": {},
   "source": [
    "### 组件5 编码器层\n",
    "在构造完上面袋编码器的多个基本组件后，现在来构建一个基本的编码器层"
   ]
  },
  {
   "cell_type": "code",
   "execution_count": 76,
   "metadata": {},
   "outputs": [],
   "source": [
    "import torch.nn as nn\n",
    "class EncoderLayer(nn.Module):\n",
    "    def __init__(self):\n",
    "        super(EncoderLayer, self).__init__()\n",
    "        self.enc_self_attn = MultiHeadAttention() # 定义多头自注意力层\n",
    "        self.pos_ffn = PoswiseFeedForwardNet() # 定义逐位置前馈网络\n",
    "    \n",
    "    def forward(self, enc_inputs, enc_self_attn_mask):\n",
    "        #------------------------- 维度信息 --------------------------------\n",
    "        # enc_inputs 的维度是 [batch_size, seq_len, embedding_dim]\n",
    "        # enc_self_attn_mask 的维度是 [batch_size, seq_len, seq_len]\n",
    "        #-----------------------------------------------------------------\n",
    "        \n",
    "        # 将编码器输入喂入多头自注意力层，通过linear得到QKV，然后得到注意力的输出和权重\n",
    "        # enc_outputs -> [batch_size, seq_len, embedding_dim]\n",
    "        # attn_weights -> [batch_size, n_heads, seq_len, seq_len]\n",
    "        enc_outputs, attn_weights = self.enc_self_attn(enc_inputs, enc_inputs, enc_inputs, enc_self_attn_mask)\n",
    "        \n",
    "        # 将多头自注意力的输出输入前馈网络层\n",
    "        enc_outputs = self.pos_ffn(enc_outputs)\n",
    "        \n",
    "        return enc_outputs, attn_weights"
   ]
  },
  {
   "cell_type": "markdown",
   "metadata": {},
   "source": [
    "### 组件6 编码器\n",
    "编码器通常是由多个上面的编码器层堆叠而成，目的是为了提取序列中更丰富的特征  \n",
    "nn.Embedding的说明：weight矩阵(lookup-table)这个矩阵的每一行就是字典中对应索引值的词嵌入(词向量),从形状来看：  \n",
    "(1 ✖ ️4 one-hot编码) * (4 ✖️ 3 weight) -> 1 ✖️ 3\n",
    "<img src=\"./images/embedding.png\" alt=\"examples\" style=\"zoom:50%;\" />\n",
    "\n",
    "from_pretrained()可以指定权重向量\n",
    "<img src=\"./images/embedding_pretrained.png\" alt=\"examples\" style=\"zoom:50%;\" />"
   ]
  },
  {
   "cell_type": "code",
   "execution_count": 77,
   "metadata": {},
   "outputs": [],
   "source": [
    "n_layers = 6 # 设置Encoder的层数\n",
    "class Encoder(nn.Module):\n",
    "    def __init__(self, corpus):\n",
    "        super(Encoder, self).__init__()\n",
    "        # 词嵌入层\n",
    "        self.src_emb = nn.Embedding(len(corpus.src_vocab), d_embedding)\n",
    "        # 位置嵌入层\n",
    "        self.pos_emb = nn.Embedding.from_pretrained(\\\n",
    "            get_sin_enc_table(corpus.src_len+1, d_embedding), freeze=True\n",
    "        )\n",
    "        # 编码器层数\n",
    "        self.layers = nn.ModuleList([EncoderLayer() for _ in range(n_layers)])\n",
    "    \n",
    "    def forward(self, enc_inputs):\n",
    "        #------------------------- 维度信息 ---------------------------------\n",
    "        # enc_inputs 的维度是 [batch_size, source_len] 原始语料序列的长度\n",
    "        #-----------------------------------------------------------------\n",
    "        # 创建一个从1到source_len的位置索引序列\n",
    "        # pos_indices -> [1, source_len]\n",
    "        pos_indices = torch.arange(1, enc_inputs.size(1) + 1).unsqueeze(0).to(enc_inputs)\n",
    "        \n",
    "        # 对输入进行词嵌入并和位置嵌入相加\n",
    "        # enc_outputs -> [batch_size, seq_len, embedding_dim]\n",
    "        enc_outputs = self.src_emb(enc_inputs) + self.pos_emb(pos_indices)\n",
    "        \n",
    "        # 生成自注意力掩码\n",
    "        # enc_self_attn_mask -> [batch_size, len_q, len_k] 等同于注意力分数的形状 \n",
    "        enc_self_attn_mask = get_attn_pad_mask(enc_inputs, enc_inputs)\n",
    "        \n",
    "        enc_self_attn_weights = [] # 初始化注意力权重，主要适用于保存\n",
    "        # 将词嵌入向量输入编码器\n",
    "        # enc_outputs -> [batch_size, seq_len, embedding_dim]\n",
    "        # enc_self_attn_weights 是一个列表，每个元素的维度是 [batch_size, n_heads, seq_len, seq_len]\n",
    "        for layer in self.layers:\n",
    "            enc_outputs, enc_self_attn_weight = layer(enc_outputs, enc_self_attn_mask)\n",
    "            enc_self_attn_weights.append(enc_self_attn_weight)\n",
    "        \n",
    "        return enc_outputs, enc_self_attn_weights"
   ]
  },
  {
   "cell_type": "markdown",
   "metadata": {},
   "source": [
    "### 组件7 后续掩码\n",
    "上面完成了编码器，在解码器中，基本组件与编码器类似，唯一不同的是解码器的输入在需要填充掩码袋同时还需要后续掩码。这与解码器的训练是教师强制有关，在训练过程中将真实的输出作为下一个时间步的输入，因此为了模型在预测当前位置时不会关注到未来的信息，使用了后续掩码，其本质是一个上三角矩阵  \n",
    "\n",
    "<img src=\"./images/后续掩码.png\" alt=\"examples\" style=\"zoom:50%;\" /> \n"
   ]
  },
  {
   "cell_type": "code",
   "execution_count": 78,
   "metadata": {},
   "outputs": [],
   "source": [
    "import numpy as np\n",
    "def get_attn_subsequent_mask(seq):\n",
    "    #------------------------- 维度信息 --------------------------------\n",
    "    # seq 的维度是 [batch_size, seq_len(Q)=seq_len(K)]\n",
    "    #-----------------------------------------------------------------\n",
    "    # 获取输入序列的形状\n",
    "    attn_shape = [seq.size(0), seq.size(1), seq.size(1)]\n",
    "    \n",
    "    # 通过numpy创建一个上三角矩阵(triu = triangle upper)\n",
    "    # subsequent_mask -> [batch_size, seq_len(Q), seq_len(K)]\n",
    "    subsequent_mask = np.triu(np.ones(attn_shape), k=1)\n",
    "    \n",
    "    # 将numpy数组转换为Pytorch张量，并将数据类型设置为byte(布尔值)\n",
    "    subsequent_mask = torch.from_numpy(subsequent_mask).byte()\n",
    "    \n",
    "    return subsequent_mask"
   ]
  },
  {
   "cell_type": "markdown",
   "metadata": {},
   "source": [
    "### 组件8 解码器层\n",
    "解码器层与编码器层的组成类似，只是多了后续掩码以及编码器-解码器注意力"
   ]
  },
  {
   "cell_type": "code",
   "execution_count": 79,
   "metadata": {},
   "outputs": [],
   "source": [
    "# 定义解码器层类\n",
    "class DecoderLayer(nn.Module):\n",
    "    def __init__(self):\n",
    "        super(DecoderLayer, self).__init__()\n",
    "        self.dec_self_attn = MultiHeadAttention() # 定义多头自注意力层\n",
    "        self.dec_enc_attn = MultiHeadAttention() # 定义编码器-解码器注意力层\n",
    "        self.pos_fn = PoswiseFeedForwardNet() # 位置前馈神经网络层\n",
    "    \n",
    "    def forward(self, dec_inputs, enc_outputs, dec_self_attn_mask, dec_enc_attn_mask):\n",
    "        #------------------------- 维度信息 --------------------------------\n",
    "        # dec_self_attn_mask 多头自注意力的掩码(填充掩码+后续掩码)\n",
    "        # dec_enc_attn_mask 编码器-解码器注意力掩码(填充掩码)\n",
    "        # dec_inputs 的维度是 [batch_size, target_len, embedding_dim]\n",
    "        # enc_outputs 的维度是 [batch_size, source_len, embedding_dim]\n",
    "        # dec_self_attn_mask 的维度是 [batch_size, target_len, target_len]\n",
    "        # dec_enc_attn_mask 的维度是 [batch_size, target_len, source_len]\n",
    "        #-----------------------------------------------------------------\n",
    "        \n",
    "        # 多头自注意力层 (Q K V mask)\n",
    "        # dec_outputs -> [batch_size, target_len, embedding_dim]\n",
    "        # dec_self_attn -> [batch_size, n_heads, target_len, target_len]\n",
    "        dec_outputs, dec_self_attn = self.dec_self_attn(dec_inputs, dec_inputs, dec_inputs, dec_self_attn_mask)\n",
    "        \n",
    "        # 编码器-解码器注意力层\n",
    "        # dec_outputs -> [batch_size, target_len, embedding_dim]\n",
    "        # dec_self_attn -> [batch_size, n_heads, target_len, source_len]\n",
    "        dec_outputs, dec_enc_attn = self.dec_enc_attn(dec_outputs, enc_outputs, enc_outputs, dec_enc_attn_mask)\n",
    "        \n",
    "        # 输入位置前馈网络层\n",
    "        dec_outputs = self.pos_fn(dec_outputs)\n",
    "        \n",
    "        return dec_outputs, dec_self_attn, dec_enc_attn "
   ]
  },
  {
   "cell_type": "markdown",
   "metadata": {},
   "source": [
    "### 组件9 解码器\n",
    "解码器与编码器类似，也是由多个解码器层堆叠而层的"
   ]
  },
  {
   "cell_type": "code",
   "execution_count": 80,
   "metadata": {},
   "outputs": [],
   "source": [
    "n_layers = 6\n",
    "class Decoder(nn.Module):\n",
    "    def __init__(self, corpus):\n",
    "        super(Decoder, self).__init__()\n",
    "        self.tgt_emb = nn.Embedding(len(corpus.tgt_vocab), d_embedding)\n",
    "        self.pos_emb = nn.Embedding.from_pretrained(get_sin_enc_table(corpus.tgt_len + 1, d_embedding), freeze=True)\n",
    "        self.layers = nn.ModuleList([DecoderLayer() for _ in range(n_layers)])\n",
    "    \n",
    "    def forward(self, dec_inputs, enc_inputs, enc_outputs):\n",
    "        # dec_inputs 的维度是 [batch_size, target_len]\n",
    "        # enc_inputs 的维度是 [batch_size, source_len]\n",
    "        # enc_outputs 的维度是 [batch_size, source_len, embedding_dim]\n",
    "        \n",
    "        # 创建位置索引，将词嵌入和位置嵌入相加\n",
    "        pos_indices = torch.arange(1, dec_inputs.size(1) + 1).unsqueeze(0).to(dec_inputs)\n",
    "        # dec_outputs -> [batch_size, target_len, embedding_dim]\n",
    "        dec_outputs = self.tgt_emb(dec_inputs) + self.pos_emb(pos_indices)\n",
    "        \n",
    "        # 生成各种掩码\n",
    "        # 填充掩码-多头自注意力\n",
    "        dec_self_attn_pad_mask = get_attn_pad_mask(dec_inputs, dec_inputs)\n",
    "        # 后续掩码-多头自注意力\n",
    "        dec_self_attn_subsequent_mask = get_attn_subsequent_mask(dec_inputs)\n",
    "        # dec_self_attn_mask -> [batch_size, target_len, target_len]\n",
    "        dec_self_attn_mask = torch.gt((dec_self_attn_pad_mask + dec_self_attn_subsequent_mask), 0)\n",
    "        \n",
    "        # 填充掩码-编码器-解码器多头注意力\n",
    "        # dec_enc_attn_mask -> [batch_size, target_size, source_size]\n",
    "        dec_enc_attn_mask = get_attn_pad_mask(dec_inputs, enc_inputs)\n",
    "        \n",
    "        dec_self_attns, dec_enc_attns = [], []\n",
    "        for layer in self.layers:\n",
    "            dec_outputs, dec_self_attn, dec_enc_attn = layer(dec_outputs, enc_outputs, \n",
    "                                                               dec_self_attn_mask, dec_enc_attn_mask)\n",
    "            dec_self_attns.append(dec_self_attn)\n",
    "            dec_enc_attns.append(dec_enc_attn)\n",
    "        \n",
    "        return dec_outputs, dec_self_attns, dec_enc_attns"
   ]
  },
  {
   "cell_type": "markdown",
   "metadata": {},
   "source": [
    "### 组件10 Transformer\n",
    "the final Transformer"
   ]
  },
  {
   "cell_type": "code",
   "execution_count": 81,
   "metadata": {},
   "outputs": [],
   "source": [
    "# 定义Transformer模型\n",
    "class Transformer(nn.Module):\n",
    "    def __init__(self, corpus):\n",
    "        super(Transformer, self).__init__()\n",
    "        self.encoder = Encoder(corpus)\n",
    "        self.decoder = Decoder(corpus)\n",
    "        # 定义线性投影层，将解码器的输出转换为目标词汇表大小的概率分布\n",
    "        self.projection = nn.Linear(d_embedding, len(corpus.tgt_vocab), bias=False)\n",
    "    \n",
    "    def forward(self, enc_inputs, dec_inputs):\n",
    "        #------------------------- 维度信息 --------------------------------\n",
    "        # enc_inputs -> [batch_size, source_seq_len]\n",
    "        # dec_inputs 的维度是 [batch_size, target_seq_len]\n",
    "        #-----------------------------------------------------------------\n",
    "        \n",
    "        # 将输入传递给编码器，得到编码器的输出和自注意力权重\n",
    "        # enc_outputs -> [batch_size, source_len, embedding_dim]\n",
    "        # enc_self_attns是一个list，里面的每个元素的形状为 -> [batch_size, n_heads, tgt_seq_len, src_seq_len]\n",
    "        enc_outputs, enc_self_attns = self.encoder(enc_inputs)\n",
    "        \n",
    "        # 将编码器的输入和输出、解码器的输入传递给Decoder\n",
    "        # dec_outputs(解码器层输出) -> [batch_size,  target_len, embedding_dim]\n",
    "        # dec_self_attns和dec_enc_attns都为list，分别存储解码器自注意力和编码器-解码器注意力权重\n",
    "        # dec_self_attn -> [batch_size, n_head, target_seq_len, target_seq_len]\n",
    "        # dec_enc_attns -> [batch_size, n_head, target_seq_len, source_seq_len]\n",
    "        dec_outputs, dec_self_attns, dec_enc_attns = self.decoder(dec_inputs, enc_inputs, enc_outputs)\n",
    "        \n",
    "        # 将解码器输出传递给投影层，生成目标词汇白噢大小的概率分布\n",
    "        # dec_logits -> [batch_size, target_seq_len, target_voc_size]\n",
    "        dec_logits = self.projection(dec_outputs)\n",
    "        \n",
    "        return dec_logits, enc_self_attns, dec_self_attns, dec_enc_attns"
   ]
  },
  {
   "cell_type": "markdown",
   "metadata": {},
   "source": [
    "## 一个简单的翻译任务\n",
    "仍然使用小型翻译任务数据集，创建一个TranslationCorpus类，读入语料，自动整理语料库的字段，并提供批量数据"
   ]
  },
  {
   "cell_type": "markdown",
   "metadata": {},
   "source": [
    "> 准备数据"
   ]
  },
  {
   "cell_type": "code",
   "execution_count": 82,
   "metadata": {},
   "outputs": [],
   "source": [
    "sentences = [\n",
    "    ['咖哥 喜欢 小冰', 'KaGe likes XiaoBing'],\n",
    "    ['我 爱 学习 人工智能', 'I love studying AI'],\n",
    "    ['深度学习 改变 世界', ' DL changed the world'],\n",
    "    ['自然语言处理 很 强大', 'NLP is powerful'],\n",
    "    ['神经网络 非常 复杂', 'Neural-networks are complex'] ]"
   ]
  },
  {
   "cell_type": "code",
   "execution_count": 83,
   "metadata": {},
   "outputs": [],
   "source": [
    "from collections import Counter # 导入 Counter 类\n",
    "# 定义 TranslationCorpus 类\n",
    "class TranslationCorpus:\n",
    "    def __init__(self, sentences):\n",
    "        self.sentences = sentences\n",
    "        # 计算源语言和目标语言的最大句子长度，并分别加 1 和 2 以容纳填充符和特殊符号\n",
    "        self.src_len = max(len(sentence[0].split()) for sentence in sentences) + 1\n",
    "        self.tgt_len = max(len(sentence[1].split()) for sentence in sentences) + 2\n",
    "        # 创建源语言和目标语言的词汇表\n",
    "        self.src_vocab, self.tgt_vocab = self.create_vocabularies()\n",
    "        # 创建索引到单词的映射\n",
    "        self.src_idx2word = {v: k for k, v in self.src_vocab.items()}\n",
    "        self.tgt_idx2word = {v: k for k, v in self.tgt_vocab.items()}\n",
    "    # 定义创建词汇表的函数\n",
    "    def create_vocabularies(self):\n",
    "        # 统计源语言和目标语言的单词频率\n",
    "        src_counter = Counter(word for sentence in self.sentences for word in sentence[0].split())\n",
    "        tgt_counter = Counter(word for sentence in self.sentences for word in sentence[1].split())        \n",
    "        # 创建源语言和目标语言的词汇表，并为每个单词分配一个唯一的索引\n",
    "        src_vocab = {'<pad>': 0, **{word: i+1 for i, word in enumerate(src_counter)}}\n",
    "        tgt_vocab = {'<pad>': 0, '<sos>': 1, '<eos>': 2, \n",
    "                     **{word: i+3 for i, word in enumerate(tgt_counter)}}        \n",
    "        return src_vocab, tgt_vocab\n",
    "    # 定义创建批次数据的函数\n",
    "    def make_batch(self, batch_size, test_batch=False):\n",
    "        input_batch, output_batch, target_batch = [], [], []\n",
    "        # 随机选择句子索引\n",
    "        sentence_indices = torch.randperm(len(self.sentences))[:batch_size]\n",
    "        for index in sentence_indices:\n",
    "            src_sentence, tgt_sentence = self.sentences[index]\n",
    "            # 将源语言和目标语言的句子转换为索引序列\n",
    "            src_seq = [self.src_vocab[word] for word in src_sentence.split()]\n",
    "            tgt_seq = [self.tgt_vocab['<sos>']] + [self.tgt_vocab[word] \\\n",
    "                         for word in tgt_sentence.split()] + [self.tgt_vocab['<eos>']]            \n",
    "            # 对源语言和目标语言的序列进行填充\n",
    "            src_seq += [self.src_vocab['<pad>']] * (self.src_len - len(src_seq))\n",
    "            tgt_seq += [self.tgt_vocab['<pad>']] * (self.tgt_len - len(tgt_seq))            \n",
    "            # 将处理好的序列添加到批次中\n",
    "            input_batch.append(src_seq)\n",
    "            output_batch.append([self.tgt_vocab['<sos>']] + ([self.tgt_vocab['<pad>']] * \\\n",
    "                                    (self.tgt_len - 2)) if test_batch else tgt_seq[:-1])\n",
    "            target_batch.append(tgt_seq[1:])        \n",
    "          # 将批次转换为 LongTensor 类型\n",
    "        input_batch = torch.LongTensor(input_batch)\n",
    "        output_batch = torch.LongTensor(output_batch)\n",
    "        target_batch = torch.LongTensor(target_batch)            \n",
    "        return input_batch, output_batch, target_batch\n",
    "# 创建语料库类实例\n",
    "corpus = TranslationCorpus(sentences)"
   ]
  },
  {
   "cell_type": "markdown",
   "metadata": {},
   "source": [
    "> 模型训练"
   ]
  },
  {
   "cell_type": "code",
   "execution_count": 84,
   "metadata": {},
   "outputs": [
    {
     "name": "stdout",
     "output_type": "stream",
     "text": [
      "Epoch: 0001 cost = 3.010521\n",
      "Epoch: 0002 cost = 2.734045\n",
      "Epoch: 0003 cost = 2.422033\n",
      "Epoch: 0004 cost = 2.023669\n",
      "Epoch: 0005 cost = 1.304951\n"
     ]
    }
   ],
   "source": [
    "import torch\n",
    "import torch.optim as optim\n",
    "\n",
    "# 创建模型实例\n",
    "model = Transformer(corpus)\n",
    "criterion = nn.CrossEntropyLoss()\n",
    "optimizer = optim.Adam(model.parameters(), lr=0.0001)\n",
    "epoches = 5\n",
    "for epoch in range(epoches):\n",
    "    optimizer.zero_grad()\n",
    "    enc_inputs, dec_inputs, target_batch = corpus.make_batch(batch_size)\n",
    "    outputs, _, _, _ = model(enc_inputs, dec_inputs)\n",
    "    loss = criterion(outputs.view(-1, len(corpus.tgt_vocab)), target_batch.view(-1))\n",
    "    if (epoch + 1) % 1 == 0: # 打印损失\n",
    "        print(f\"Epoch: {epoch + 1:04d} cost = {loss:.6f}\")\n",
    "    loss.backward()# 反向传播        \n",
    "    optimizer.step()# 更新参数"
   ]
  },
  {
   "cell_type": "markdown",
   "metadata": {},
   "source": [
    "> 结果测试"
   ]
  },
  {
   "cell_type": "code",
   "execution_count": 89,
   "metadata": {},
   "outputs": [
    {
     "name": "stdout",
     "output_type": "stream",
     "text": [
      "编码器输入 : tensor([[14, 15, 16,  0,  0]])\n",
      "解码器输入 : tensor([[1, 0, 0, 0, 0]])\n",
      "目标数据 : tensor([[17, 18, 19,  2,  0]])\n",
      "神经网络 非常 复杂 <pad> <pad> -> ['DL', 'DL', 'DL', '<eos>', '<eos>']\n"
     ]
    }
   ],
   "source": [
    "# 创建一个大小为1的batch\n",
    "enc_inputs, dec_inputs, target_batch = corpus.make_batch(batch_size=1, test_batch=True)\n",
    "print(\"编码器输入 :\", enc_inputs) # 打印编码器输入\n",
    "print(\"解码器输入 :\", dec_inputs) # 打印解码器输入\n",
    "print(\"目标数据 :\", target_batch) # 打印目标数据\n",
    "predict, enc_self_attns, dec_self_attns, dec_enc_attns = model(enc_inputs, dec_inputs) # 用模型进行翻译\n",
    "predict = predict.view(-1, len(corpus.tgt_vocab))\n",
    "predict = predict.data.max(1, keepdim=True)[1]\n",
    "res = [corpus.tgt_idx2word[idx.item()] for idx in predict.squeeze()]\n",
    "\n",
    "input_sentence = ' '.join([corpus.src_idx2word[idx.item()] for idx in enc_inputs[0]])\n",
    "print(input_sentence, '->', res) # 打印原始句子和翻译后的句子"
   ]
  }
 ],
 "metadata": {
  "kernelspec": {
   "display_name": "Python 3",
   "language": "python",
   "name": "python3"
  },
  "language_info": {
   "codemirror_mode": {
    "name": "ipython",
    "version": 3
   },
   "file_extension": ".py",
   "mimetype": "text/x-python",
   "name": "python",
   "nbconvert_exporter": "python",
   "pygments_lexer": "ipython3",
   "version": "3.7.7"
  }
 },
 "nbformat": 4,
 "nbformat_minor": 2
}
